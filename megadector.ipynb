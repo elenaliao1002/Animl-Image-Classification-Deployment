{
 "cells": [
  {
   "cell_type": "markdown",
   "id": "3b73a51d-84ef-4649-b429-6c35b77bfb18",
   "metadata": {},
   "source": [
    "### 1. Install prerequisites: Anaconda, Git, and NVIDIA"
   ]
  },
  {
   "cell_type": "markdown",
   "id": "d192a7b2-0f60-48df-9c9b-455b39d49a66",
   "metadata": {},
   "source": [
    "https://github.com/microsoft/CameraTraps/blob/main/megadetector.md#run_detectorpy"
   ]
  },
  {
   "cell_type": "code",
   "execution_count": null,
   "id": "d68623c6-f78e-4a48-96a3-4bb28f0d3d35",
   "metadata": {},
   "outputs": [],
   "source": [
    "!wget https://repo.anaconda.com/archive/Anaconda3-2022.10-Linux-x86_64.sh\n",
    "!bash Anaconda3-2022.10-Linux-x86_64.sh\n",
    "!source .bashrc"
   ]
  },
  {
   "cell_type": "markdown",
   "id": "b38fbd11-9d48-4359-829b-fc022463af99",
   "metadata": {},
   "source": [
    "Download image from lila"
   ]
  },
  {
   "cell_type": "code",
   "execution_count": null,
   "id": "6d3cc9b8-332d-4e94-a37b-cb9b9f38732c",
   "metadata": {},
   "outputs": [],
   "source": [
    "!conda install -c conda-forge gsutil\n",
    "!mkdir animl\n",
    "!gsutil -m cp -r dir gs://public-datasets-lila/channel-islands-camera-traps/images/ ."
   ]
  },
  {
   "cell_type": "markdown",
   "id": "3bb4840a-6882-4b35-b61a-f7b5f0fcfddb",
   "metadata": {},
   "source": [
    "### 2. Download the MegaDetector model(s)"
   ]
  },
  {
   "cell_type": "markdown",
   "id": "b0c56d2a-52b1-444b-acbe-8fd53facc18e",
   "metadata": {},
   "source": [
    "Download one or more MegaDetector model files (MDv5a, MDv5b, and/or MDv4) to your computer. These instructions will assume that you have downloaded MegaDetector to a folder called \"c:\\megadetector\", but if you put it somewhere else, that's fine, just be sure to change it in the steps below that point to a model file. If you don't care where it goes, and you don't know yet which version you want to use, you'll have an easier time working through these instructions if you download MDv5a to a folder called \"c:\\megadetector\", i.e. if the model file lives at \"c:\\megadetector\\md_v5a.0.0.pt\".\n",
    "\n",
    "The instructions below will assume that you are using MDv5a; one step will be slightly different for MDv4, but we'll call that out when we get there."
   ]
  },
  {
   "cell_type": "code",
   "execution_count": null,
   "id": "658e934b-8d1c-4bdc-946e-b9a594e80f4f",
   "metadata": {},
   "outputs": [],
   "source": [
    "!wget https://github.com/microsoft/CameraTraps/releases/download/v5.0/md_v5a.0.0.pt\n",
    "!wget https://github.com/microsoft/CameraTraps/releases/download/v5.0/md_v5b.0.0.pt\n",
    "!wget https://lilablobssc.blob.core.windows.net/models/camera_traps/megadetector/md_v4.1.0/md_v4.1.0.pb"
   ]
  },
  {
   "cell_type": "markdown",
   "id": "7c1f8fe1-48ea-4bf1-9a49-bfa2eafd3e47",
   "metadata": {},
   "source": [
    "### 3. Clone the relevant git repos and add them to your path, and set up your Python environment"
   ]
  },
  {
   "cell_type": "markdown",
   "id": "54e48109-bcb2-43e8-b4b5-55af8eb69c95",
   "metadata": {},
   "source": [
    "Linux instructions for git/Python (USF provide GPU for us and that is Linux environment)\n",
    "If you have installed Anaconda on Linux, you are probably always at an Anaconda prompt; i.e., you should see \"(base)\" at your command prompt. Assuming you see that, the first time you set all of this up, and run:\n",
    "\n"
   ]
  },
  {
   "cell_type": "code",
   "execution_count": null,
   "id": "65452f64-bd61-4c85-8e84-8e9b4f8c409f",
   "metadata": {},
   "outputs": [],
   "source": [
    "!mkdir ~/git\n",
    "!cd ~/git\n",
    "!git clone https://github.com/ecologize/yolov5/\n",
    "!git clone https://github.com/Microsoft/cameratraps\n",
    "!git clone https://github.com/Microsoft/ai4eutils\n",
    "!cd ~/git/cameratraps\n",
    "!conda env create --file environment-detector.yml\n",
    "!conda activate cameratraps-detector\n",
    "!export PYTHONPATH=\"$PYTHONPATH:$HOME/git/cameratraps:$HOME/git/ai4eutils:$HOME/git/yolov5\""
   ]
  },
  {
   "cell_type": "markdown",
   "id": "84e381a9-3fd4-4f5c-8080-0e4ae45c077d",
   "metadata": {},
   "source": [
    "If you want to use MDv4, there's one extra setup step (this will not break your MDv5 setup, you can run both in the same environment):"
   ]
  },
  {
   "cell_type": "code",
   "execution_count": null,
   "id": "43178aeb-af70-4220-8b76-d18a88cd4aab",
   "metadata": {},
   "outputs": [],
   "source": [
    "!pip install tensorflow"
   ]
  },
  {
   "cell_type": "markdown",
   "id": "bc1f0aff-1787-4567-bf80-75c7b621eeda",
   "metadata": {},
   "source": [
    "Your environment is set up now! In the future, whenever you start a new shell, you just need to do:\n"
   ]
  },
  {
   "cell_type": "code",
   "execution_count": 3,
   "id": "c7dcae78-dc7d-4d6b-84bb-26ec98495d07",
   "metadata": {},
   "outputs": [
    {
     "name": "stdout",
     "output_type": "stream",
     "text": [
      "\n",
      "CommandNotFoundError: Your shell has not been properly configured to use 'conda activate'.\n",
      "To initialize your shell, run\n",
      "\n",
      "    $ conda init <SHELL_NAME>\n",
      "\n",
      "Currently supported shells are:\n",
      "  - bash\n",
      "  - fish\n",
      "  - tcsh\n",
      "  - xonsh\n",
      "  - zsh\n",
      "  - powershell\n",
      "\n",
      "See 'conda init --help' for more information and options.\n",
      "\n",
      "IMPORTANT: You may need to close and restart your shell after running 'conda init'.\n",
      "\n",
      "\n"
     ]
    }
   ],
   "source": [
    "!cd ~/git/cameratraps\n",
    "!conda activate cameratraps-detector\n",
    "!export PYTHONPATH=\"$PYTHONPATH:$HOME/git/cameratraps:$HOME/git/ai4eutils:$HOME/git/yolov5\""
   ]
  },
  {
   "cell_type": "markdown",
   "id": "ec659920-d75a-4393-a6d6-508052dae4f8",
   "metadata": {},
   "source": [
    "### 4. Hooray, we finally get to run MegaDetector!"
   ]
  },
  {
   "cell_type": "markdown",
   "id": "5f4bbc15-ed80-4890-b560-b100418a72c9",
   "metadata": {},
   "source": [
    "run_detector.py"
   ]
  },
  {
   "cell_type": "markdown",
   "id": "abf67a47-9e52-4fd3-a5b6-f93401253882",
   "metadata": {},
   "source": [
    "To test MegaDetector out on small sets of images and get super-satisfying visual output, we provide run_detector.py, an example script for invoking this detector on new images. This isn't how we recommend running lots of images through MegaDetector (see run_detector_batch.py below for \"real\" usage), but it's a quick way to test things out. Let us know how it works on your images!"
   ]
  },
  {
   "cell_type": "code",
   "execution_count": 15,
   "id": "f5e6b1c2-ad87-4cb1-91cc-77d97115a97d",
   "metadata": {},
   "outputs": [
    {
     "name": "stdout",
     "output_type": "stream",
     "text": [
      "Running detector on 1 images...\n",
      "PyTorch reports 4 available CUDA devices\n",
      "GPU available: True\n",
      "Using PyTorch version 1.13.1+cu117\n",
      "Fusing layers... \n",
      "Model summary: 574 layers, 139990096 parameters, 0 gradients\n",
      "Sending model to GPU\n",
      "Loaded model in 3.56 seconds\n",
      "Fusing layers... \n",
      "Model summary: 574 layers, 139990096 parameters, 0 gradients\n",
      "Sending model to GPU\n",
      "Loaded model in 0.96 seconds\n",
      "  0%|                                                     | 0/1 [00:00<?, ?it/s]PTDetector: image /home/wliao14/git/cameratraps/test_images/d5898449.jpg failed during inference: 'Upsample' object has no attribute 'recompute_scale_factor'\n",
      "100%|█████████████████████████████████████████████| 1/1 [00:00<00:00, 39.73it/s]\n",
      "On average, for each image,\n",
      "- loading took 0 seconds, std dev is not available\n",
      "- inference took 0.02 seconds, std dev is not available\n"
     ]
    }
   ],
   "source": [
    "!python ~/git/cameratraps/detection/run_detector.py ~/git/cameratraps/md_v5a.0.0.pt --image_file ~/git/cameratraps/test_images/d5898449.jpg"
   ]
  },
  {
   "cell_type": "code",
   "execution_count": null,
   "id": "26162aaa-09c8-40de-990a-61644b2172eb",
   "metadata": {},
   "outputs": [],
   "source": [
    "!python detection/run_detector_batch.py ~/git/cameratraps/md_v5a.0.0.pt ~/git/cameratraps/test_images/001 --output_relative_filenames ~/git/cameratraps/test_output/test_output_001.json  --recursive --checkpoint_frequency 10000"
   ]
  },
  {
   "cell_type": "code",
   "execution_count": 18,
   "id": "a2ba259b-76e6-48b8-93ef-ccf75ab088ee",
   "metadata": {},
   "outputs": [
    {
     "data": {
      "image/jpeg": "[encoded data removed]",
      "text/plain": [
       "<IPython.core.display.Image object>"
      ]
     },
     "execution_count": 18,
     "metadata": {},
     "output_type": "execute_result"
    }
   ],
   "source": [
    "from IPython.display import Image\n",
    "Image(filename='./git/cameratraps/test_images/001/018_detections.jpg') "
   ]
  },
  {
   "cell_type": "markdown",
   "id": "7df0804c-2872-49d3-99d3-227d5ed9a863",
   "metadata": {},
   "source": [
    "run_detector_batch.py"
   ]
  },
  {
   "cell_type": "markdown",
   "id": "80e39984-c0bf-447b-a703-2106d84fb150",
   "metadata": {},
   "source": [
    "To apply this model to larger image sets on a single machine, we recommend a different script, run_detector_batch.py. This outputs data in the same format as our batch processing API, so you can leverage all of our post-processing tools. The format that this script produces is also compatible with Timelapse."
   ]
  },
  {
   "cell_type": "markdown",
   "id": "f8ae5c23-18de-468e-b49c-cbaad5d48c8d",
   "metadata": {},
   "source": [
    "If you are running very large batches, we strongly recommend adding the --checkpoint_frequency option to save checkpoints every N images (you don't want to lose all the work your GPU has done if your computer crashes!). 10000 is a good value for checkpoint frequency; that will save the results every 10000 images. This is what we've used in the example above."
   ]
  },
  {
   "cell_type": "markdown",
   "id": "1b4c13ad-ec61-4c22-8bf1-c8b6c04b198e",
   "metadata": {},
   "source": [
    "To use this script on Linux/Mac, when you open a new Anaconda prompt, don't forget to do this:"
   ]
  },
  {
   "cell_type": "code",
   "execution_count": null,
   "id": "cb7126a0-80ad-469f-81c4-d3460d1c1f82",
   "metadata": {},
   "outputs": [],
   "source": [
    "!cd ~/git/cameratraps\n",
    "!conda activate cameratraps-detector\n",
    "!export PYTHONPATH=\"$PYTHONPATH:$HOME/git/cameratraps:$HOME/git/ai4eutils:$HOME/git/yolov5\""
   ]
  },
  {
   "cell_type": "markdown",
   "id": "2ce6bc06-3700-45a0-bf2a-ef017ad423ae",
   "metadata": {},
   "source": [
    "Then you can run the script like this:"
   ]
  },
  {
   "cell_type": "code",
   "execution_count": null,
   "id": "c5fbb30d-e282-41a8-922a-545d3cd6a2c6",
   "metadata": {},
   "outputs": [],
   "source": [
    "!python ~/git/cameratraps/detection/run_detector_batch.py ~/git/cameratraps/md_v5a.0.0.pt ~/git/cameratraps/test_images/loc-h500ee05127658 --output_relative_filenames ~/git/cameratraps/test_output/test_output_h500ee05127658.json  --recursive --checkpoint_frequency 10000"
   ]
  },
  {
   "cell_type": "code",
   "execution_count": 20,
   "id": "ce5091a5-010a-4dac-b915-600970d5143f",
   "metadata": {},
   "outputs": [
    {
     "data": {
      "application/json": {
       "detection_categories": {
        "1": "animal",
        "2": "person",
        "3": "vehicle"
       },
       "images": [
        {
         "detections": [],
         "file": "537.jpg",
         "max_detection_conf": 0
        },
        {
         "detections": [
          {
           "bbox": [
            0.8411,
            0.5175,
            0.1588,
            0.1435
           ],
           "category": "1",
           "conf": 0.918
          }
         ],
         "file": "539.jpg",
         "max_detection_conf": 0.918
        },
        {
         "detections": [],
         "file": "540.jpg",
         "max_detection_conf": 0
        },
        {
         "detections": [
          {
           "bbox": [
            0.5817,
            0.6777,
            0.1677,
            0.25
           ],
           "category": "1",
           "conf": 0.948
          }
         ],
         "file": "541.jpg",
         "max_detection_conf": 0.948
        },
        {
         "detections": [
          {
           "bbox": [
            0.8744,
            0.5824,
            0.1255,
            0.1333
           ],
           "category": "1",
           "conf": 0.918
          }
         ],
         "file": "474.jpg",
         "max_detection_conf": 0.918
        },
        {
         "detections": [
          {
           "bbox": [
            0.5921,
            0.712,
            0.1541,
            0.2509
           ],
           "category": "1",
           "conf": 0.96
          }
         ],
         "file": "475.jpg",
         "max_detection_conf": 0.96
        },
        {
         "detections": [
          {
           "bbox": [
            0,
            0.02129,
            0.9395,
            0.9546
           ],
           "category": "2",
           "conf": 0.00722
          },
          {
           "bbox": [
            0.7052,
            0.8574,
            0.177,
            0.112
           ],
           "category": "1",
           "conf": 0.0292
          },
          {
           "bbox": [
            0.7052,
            0.8527,
            0.177,
            0.1166
           ],
           "category": "2",
           "conf": 0.0385
          },
          {
           "bbox": [
            0.9057,
            0.5351,
            0.09427,
            0.137
           ],
           "category": "1",
           "conf": 0.895
          }
         ],
         "file": "476.jpg",
         "max_detection_conf": 0.895
        },
        {
         "detections": [
          {
           "bbox": [
            0.7046,
            0.8509,
            0.1781,
            0.1185
           ],
           "category": "2",
           "conf": 0.0341
          },
          {
           "bbox": [
            0.7046,
            0.8555,
            0.1776,
            0.1138
           ],
           "category": "1",
           "conf": 0.0369
          },
          {
           "bbox": [
            0.8442,
            0.5444,
            0.1515,
            0.1731
           ],
           "category": "1",
           "conf": 0.931
          }
         ],
         "file": "477.jpg",
         "max_detection_conf": 0.931
        },
        {
         "detections": [
          {
           "bbox": [
            0.9203,
            0.5462,
            0.05208,
            0.1212
           ],
           "category": "1",
           "conf": 0.00597
          },
          {
           "bbox": [
            0,
            0.02314,
            0.9364,
            0.9509
           ],
           "category": "2",
           "conf": 0.00701
          },
          {
           "bbox": [
            0.7046,
            0.8499,
            0.1776,
            0.1194
           ],
           "category": "2",
           "conf": 0.0367
          },
          {
           "bbox": [
            0.8927,
            0.5388,
            0.1072,
            0.137
           ],
           "category": "1",
           "conf": 0.945
          }
         ],
         "file": "478.jpg",
         "max_detection_conf": 0.945
        },
        {
         "detections": [
          {
           "bbox": [
            0.9432,
            0.5296,
            0.05677,
            0.1351
           ],
           "category": "1",
           "conf": 0.86
          }
         ],
         "file": "479.jpg",
         "max_detection_conf": 0.86
        },
        {
         "detections": [
          {
           "bbox": [
            0.4177,
            0.6231,
            0.05468,
            0.04629
           ],
           "category": "1",
           "conf": 0.00986
          },
          {
           "bbox": [
            0.9187,
            0.5296,
            0.08124,
            0.1342
           ],
           "category": "1",
           "conf": 0.936
          }
         ],
         "file": "480.jpg",
         "max_detection_conf": 0.936
        },
        {
         "detections": [
          {
           "bbox": [
            0.6557,
            0.5703,
            0.1578,
            0.2814
           ],
           "category": "1",
           "conf": 0.96
          }
         ],
         "file": "481.jpg",
         "max_detection_conf": 0.96
        },
        {
         "detections": [
          {
           "bbox": [
            0.713,
            0.5157,
            0.08906,
            0.1703
           ],
           "category": "1",
           "conf": 0.937
          }
         ],
         "file": "482.jpg",
         "max_detection_conf": 0.937
        },
        {
         "detections": [
          {
           "bbox": [
            0.004687,
            0.01851,
            0.9947,
            0.9629
           ],
           "category": "1",
           "conf": 0.00674
          }
         ],
         "file": "483.jpg",
         "max_detection_conf": 0.00674
        },
        {
         "detections": [
          {
           "bbox": [
            0.2729,
            0.349,
            0.1708,
            0.2435
           ],
           "category": "1",
           "conf": 0.968
          }
         ],
         "file": "484.jpg",
         "max_detection_conf": 0.968
        },
        {
         "detections": [
          {
           "bbox": [
            0.539,
            0.4444,
            0.1963,
            0.1638
           ],
           "category": "1",
           "conf": 0.96
          }
         ],
         "file": "485.jpg",
         "max_detection_conf": 0.96
        },
        {
         "detections": [
          {
           "bbox": [
            0.7223,
            0.5268,
            0.1921,
            0.199
           ],
           "category": "1",
           "conf": 0.97
          }
         ],
         "file": "486.jpg",
         "max_detection_conf": 0.97
        },
        {
         "detections": [
          {
           "bbox": [
            0.7656,
            0.5537,
            0.1328,
            0.1898
           ],
           "category": "1",
           "conf": 0.944
          }
         ],
         "file": "487.jpg",
         "max_detection_conf": 0.944
        },
        {
         "detections": [
          {
           "bbox": [
            0.788,
            0.5712,
            0.1968,
            0.1564
           ],
           "category": "1",
           "conf": 0.941
          }
         ],
         "file": "488.jpg",
         "max_detection_conf": 0.941
        },
        {
         "detections": [
          {
           "bbox": [
            0.9062,
            0.5416,
            0.09375,
            0.1361
           ],
           "category": "1",
           "conf": 0.859
          }
         ],
         "file": "489.jpg",
         "max_detection_conf": 0.859
        },
        {
         "detections": [
          {
           "bbox": [
            0.9026,
            0.5296,
            0.09739,
            0.1277
           ],
           "category": "1",
           "conf": 0.886
          }
         ],
         "file": "491.jpg",
         "max_detection_conf": 0.886
        },
        {
         "detections": [],
         "file": "490.jpg",
         "max_detection_conf": 0
        },
        {
         "detections": [
          {
           "bbox": [
            0.7052,
            0.8546,
            0.1781,
            0.1148
           ],
           "category": "2",
           "conf": 0.0327
          },
          {
           "bbox": [
            0.7265,
            0.5101,
            0.1656,
            0.1888
           ],
           "category": "1",
           "conf": 0.972
          }
         ],
         "file": "492.jpg",
         "max_detection_conf": 0.972
        },
        {
         "detections": [
          {
           "bbox": [
            0.9776,
            0.5296,
            0.02239,
            0.174
           ],
           "category": "1",
           "conf": 0.00518
          },
          {
           "bbox": [
            0,
            0.01296,
            1,
            0.9777
           ],
           "category": "2",
           "conf": 0.00651
          },
          {
           "bbox": [
            0.9781,
            0.5268,
            0.02187,
            0.08333
           ],
           "category": "1",
           "conf": 0.182
          }
         ],
         "file": "493.jpg",
         "max_detection_conf": 0.182
        },
        {
         "detections": [
          {
           "bbox": [
            0.001041,
            0.02314,
            0.9989,
            0.9527
           ],
           "category": "2",
           "conf": 0.00606
          },
          {
           "bbox": [
            0.0005208,
            0.8231,
            0.1901,
            0.1462
           ],
           "category": "1",
           "conf": 0.22
          }
         ],
         "file": "494.jpg",
         "max_detection_conf": 0.22
        },
        {
         "detections": [
          {
           "bbox": [
            0.005208,
            0.02129,
            0.9947,
            0.9638
           ],
           "category": "1",
           "conf": 0.00602
          },
          {
           "bbox": [
            0.501,
            0.3,
            0.05677,
            0.1537
           ],
           "category": "1",
           "conf": 0.00732
          }
         ],
         "file": "495.jpg",
         "max_detection_conf": 0.00732
        },
        {
         "detections": [
          {
           "bbox": [
            0.3244,
            0.6268,
            0.1213,
            0.2907
           ],
           "category": "1",
           "conf": 0.966
          }
         ],
         "file": "496.jpg",
         "max_detection_conf": 0.966
        },
        {
         "detections": [
          {
           "bbox": [
            0.7453,
            0.3574,
            0.1286,
            0.1749
           ],
           "category": "1",
           "conf": 0.953
          }
         ],
         "file": "497.jpg",
         "max_detection_conf": 0.953
        },
        {
         "detections": [
          {
           "bbox": [
            0.8177,
            0.5175,
            0.1822,
            0.1388
           ],
           "category": "1",
           "conf": 0.942
          }
         ],
         "file": "498.jpg",
         "max_detection_conf": 0.942
        },
        {
         "detections": [
          {
           "bbox": [
            0.5874,
            0.6851,
            0.1635,
            0.2518
           ],
           "category": "1",
           "conf": 0.962
          }
         ],
         "file": "499.jpg",
         "max_detection_conf": 0.962
        },
        {
         "detections": [
          {
           "bbox": [
            0.3666,
            0.5064,
            0.07812,
            0.15
           ],
           "category": "1",
           "conf": 0.0934
          }
         ],
         "file": "500.jpg",
         "max_detection_conf": 0.0934
        },
        {
         "detections": [
          {
           "bbox": [
            0.002083,
            0,
            0.9932,
            1
           ],
           "category": "2",
           "conf": 0.00538
          }
         ],
         "file": "501.jpg",
         "max_detection_conf": 0.00538
        },
        {
         "detections": [
          {
           "bbox": [
            0,
            0.01481,
            1,
            0.9694
           ],
           "category": "2",
           "conf": 0.011
          },
          {
           "bbox": [
            0,
            0.8916,
            0.04166,
            0.0787
           ],
           "category": "1",
           "conf": 0.26
          }
         ],
         "file": "503.jpg",
         "max_detection_conf": 0.26
        },
        {
         "detections": [
          {
           "bbox": [
            0,
            0.004629,
            0.9947,
            0.9833
           ],
           "category": "2",
           "conf": 0.00633
          },
          {
           "bbox": [
            0.3963,
            0.5537,
            0.04895,
            0.09629
           ],
           "category": "1",
           "conf": 0.0192
          }
         ],
         "file": "502.jpg",
         "max_detection_conf": 0.0192
        },
        {
         "detections": [
          {
           "bbox": [
            0,
            0.01111,
            0.9963,
            0.9842
           ],
           "category": "2",
           "conf": 0.00587
          }
         ],
         "file": "504.jpg",
         "max_detection_conf": 0.00587
        },
        {
         "detections": [
          {
           "bbox": [
            0,
            0.01018,
            0.9968,
            0.9833
           ],
           "category": "2",
           "conf": 0.00833
          }
         ],
         "file": "505.jpg",
         "max_detection_conf": 0.00833
        },
        {
         "detections": [
          {
           "bbox": [
            0.5843,
            0.487,
            0.1947,
            0.149
           ],
           "category": "1",
           "conf": 0.942
          }
         ],
         "file": "506.jpg",
         "max_detection_conf": 0.942
        },
        {
         "detections": [
          {
           "bbox": [
            0.4218,
            0.4407,
            0.08072,
            0.2833
           ],
           "category": "1",
           "conf": 0.948
          }
         ],
         "file": "507.jpg",
         "max_detection_conf": 0.948
        },
        {
         "detections": [
          {
           "bbox": [
            0.764,
            0.4638,
            0.09687,
            0.2564
           ],
           "category": "1",
           "conf": 0.945
          }
         ],
         "file": "508.jpg",
         "max_detection_conf": 0.945
        },
        {
         "detections": [
          {
           "bbox": [
            0.8151,
            0.6009,
            0.09791,
            0.2296
           ],
           "category": "1",
           "conf": 0.925
          }
         ],
         "file": "509.jpg",
         "max_detection_conf": 0.925
        },
        {
         "detections": [
          {
           "bbox": [
            0,
            0.01666,
            1,
            0.9703
           ],
           "category": "2",
           "conf": 0.00839
          }
         ],
         "file": "510.jpg",
         "max_detection_conf": 0.00839
        },
        {
         "detections": [
          {
           "bbox": [
            0.002604,
            0.01851,
            0.9963,
            0.9666
           ],
           "category": "2",
           "conf": 0.0127
          },
          {
           "bbox": [
            0.3911,
            0.5481,
            0.08177,
            0.1203
           ],
           "category": "1",
           "conf": 0.0166
          },
          {
           "bbox": [
            0.4161,
            0.624,
            0.05624,
            0.04629
           ],
           "category": "1",
           "conf": 0.0312
          }
         ],
         "file": "511.jpg",
         "max_detection_conf": 0.0312
        },
        {
         "detections": [
          {
           "bbox": [
            0,
            0.01666,
            0.9937,
            0.9629
           ],
           "category": "2",
           "conf": 0.00766
          }
         ],
         "file": "512.jpg",
         "max_detection_conf": 0.00766
        },
        {
         "detections": [
          {
           "bbox": [
            0.4973,
            0.3138,
            0.05416,
            0.1509
           ],
           "category": "1",
           "conf": 0.0239
          },
          {
           "bbox": [
            0.3937,
            0.5638,
            0.04895,
            0.0824
           ],
           "category": "1",
           "conf": 0.0596
          }
         ],
         "file": "513.jpg",
         "max_detection_conf": 0.0596
        },
        {
         "detections": [
          {
           "bbox": [
            0.02291,
            0.2046,
            0.2052,
            0.1953
           ],
           "category": "1",
           "conf": 0.956
          }
         ],
         "file": "514.jpg",
         "max_detection_conf": 0.956
        },
        {
         "detections": [
          {
           "bbox": [
            0.001562,
            0.02314,
            0.9984,
            0.9527
           ],
           "category": "2",
           "conf": 0.0116
          }
         ],
         "file": "515.jpg",
         "max_detection_conf": 0.0116
        },
        {
         "detections": [],
         "file": "516.jpg",
         "max_detection_conf": 0
        },
        {
         "detections": [
          {
           "bbox": [
            0.5864,
            0.4925,
            0.189,
            0.1388
           ],
           "category": "1",
           "conf": 0.932
          }
         ],
         "file": "517.jpg",
         "max_detection_conf": 0.932
        },
        {
         "detections": [
          {
           "bbox": [
            0.5869,
            0.499,
            0.2015,
            0.1416
           ],
           "category": "1",
           "conf": 0.946
          }
         ],
         "file": "523.jpg",
         "max_detection_conf": 0.946
        },
        {
         "detections": [
          {
           "bbox": [
            0.3843,
            0.5055,
            0.126,
            0.237
           ],
           "category": "1",
           "conf": 0.958
          }
         ],
         "file": "518.jpg",
         "max_detection_conf": 0.958
        },
        {
         "detections": [
          {
           "bbox": [
            0,
            0.01851,
            0.9994,
            0.9564
           ],
           "category": "2",
           "conf": 0.0113
          }
         ],
         "file": "521.jpg",
         "max_detection_conf": 0.0113
        },
        {
         "detections": [
          {
           "bbox": [
            0.001041,
            0.01944,
            0.9973,
            0.9629
           ],
           "category": "2",
           "conf": 0.00771
          },
          {
           "bbox": [
            0,
            0.9138,
            0.1541,
            0.05648
           ],
           "category": "1",
           "conf": 0.491
          }
         ],
         "file": "519.jpg",
         "max_detection_conf": 0.491
        },
        {
         "detections": [
          {
           "bbox": [
            0,
            0.01574,
            0.9973,
            0.9722
           ],
           "category": "2",
           "conf": 0.00595
          },
          {
           "bbox": [
            0.8708,
            0.5379,
            0.1286,
            0.125
           ],
           "category": "1",
           "conf": 0.76
          }
         ],
         "file": "522.jpg",
         "max_detection_conf": 0.76
        },
        {
         "detections": [
          {
           "bbox": [
            0,
            0.01111,
            0.9984,
            0.9722
           ],
           "category": "2",
           "conf": 0.00764
          }
         ],
         "file": "520.jpg",
         "max_detection_conf": 0.00764
        },
        {
         "detections": [
          {
           "bbox": [
            0,
            0.02222,
            1,
            0.9611
           ],
           "category": "2",
           "conf": 0.00876
          }
         ],
         "file": "524.jpg",
         "max_detection_conf": 0.00876
        },
        {
         "detections": [
          {
           "bbox": [
            0,
            0.01851,
            1,
            0.9555
           ],
           "category": "2",
           "conf": 0.0101
          }
         ],
         "file": "525.jpg",
         "max_detection_conf": 0.0101
        },
        {
         "detections": [
          {
           "bbox": [
            0.0005208,
            0.01759,
            0.9973,
            0.9583
           ],
           "category": "2",
           "conf": 0.0122
          }
         ],
         "file": "526.jpg",
         "max_detection_conf": 0.0122
        },
        {
         "detections": [
          {
           "bbox": [
            0,
            0.01851,
            0.9989,
            0.9564
           ],
           "category": "2",
           "conf": 0.0102
          }
         ],
         "file": "527.jpg",
         "max_detection_conf": 0.0102
        },
        {
         "detections": [
          {
           "bbox": [
            0,
            0.01944,
            0.9984,
            0.9546
           ],
           "category": "2",
           "conf": 0.0101
          }
         ],
         "file": "528.jpg",
         "max_detection_conf": 0.0101
        },
        {
         "detections": [
          {
           "bbox": [
            0,
            0.01944,
            0.9984,
            0.9592
           ],
           "category": "2",
           "conf": 0.0137
          }
         ],
         "file": "529.jpg",
         "max_detection_conf": 0.0137
        },
        {
         "detections": [
          {
           "bbox": [
            0.001562,
            0.02129,
            0.9963,
            0.9555
           ],
           "category": "2",
           "conf": 0.0129
          }
         ],
         "file": "530.jpg",
         "max_detection_conf": 0.0129
        },
        {
         "detections": [
          {
           "bbox": [
            0.002083,
            0.01944,
            0.9958,
            0.9601
           ],
           "category": "2",
           "conf": 0.0108
          }
         ],
         "file": "531.jpg",
         "max_detection_conf": 0.0108
        },
        {
         "detections": [
          {
           "bbox": [
            0,
            0.02037,
            1,
            0.9555
           ],
           "category": "2",
           "conf": 0.0114
          }
         ],
         "file": "532.jpg",
         "max_detection_conf": 0.0114
        },
        {
         "detections": [
          {
           "bbox": [
            0.002604,
            0.01851,
            0.9958,
            0.9611
           ],
           "category": "2",
           "conf": 0.0113
          }
         ],
         "file": "533.jpg",
         "max_detection_conf": 0.0113
        },
        {
         "detections": [
          {
           "bbox": [
            0.002083,
            0.02037,
            0.9958,
            0.9601
           ],
           "category": "2",
           "conf": 0.0104
          }
         ],
         "file": "534.jpg",
         "max_detection_conf": 0.0104
        },
        {
         "detections": [
          {
           "bbox": [
            0.009374,
            0.8425,
            0.1984,
            0.1268
           ],
           "category": "1",
           "conf": 0.939
          }
         ],
         "file": "535.jpg",
         "max_detection_conf": 0.939
        },
        {
         "detections": [
          {
           "bbox": [
            0.0005208,
            0.01851,
            0.9989,
            0.9731
           ],
           "category": "2",
           "conf": 0.00531
          },
          {
           "bbox": [
            0.9624,
            0.5592,
            0.0375,
            0.162
           ],
           "category": "1",
           "conf": 0.394
          }
         ],
         "file": "536.jpg",
         "max_detection_conf": 0.394
        },
        {
         "detections": [
          {
           "bbox": [
            0,
            0.0287,
            0.9937,
            0.9425
           ],
           "category": "2",
           "conf": 0.0244
          }
         ],
         "file": "538.jpg",
         "max_detection_conf": 0.0244
        },
        {
         "detections": [
          {
           "bbox": [
            0.6182,
            0.3962,
            0.09531,
            0.1925
           ],
           "category": "1",
           "conf": 0.874
          }
         ],
         "file": "403.jpg",
         "max_detection_conf": 0.874
        },
        {
         "detections": [
          {
           "bbox": [
            0,
            0.02592,
            1,
            0.949
           ],
           "category": "2",
           "conf": 0.00909
          }
         ],
         "file": "407.jpg",
         "max_detection_conf": 0.00909
        },
        {
         "detections": [],
         "file": "408.jpg",
         "max_detection_conf": 0
        },
        {
         "detections": [],
         "file": "409.jpg",
         "max_detection_conf": 0
        },
        {
         "detections": [],
         "file": "410.jpg",
         "max_detection_conf": 0
        },
        {
         "detections": [
          {
           "bbox": [
            0.4359,
            0.4259,
            0.113,
            0.1648
           ],
           "category": "1",
           "conf": 0.93
          }
         ],
         "file": "411.jpg",
         "max_detection_conf": 0.93
        },
        {
         "detections": [
          {
           "bbox": [
            0.414,
            0.5425,
            0.0625,
            0.1259
           ],
           "category": "1",
           "conf": 0.007
          },
          {
           "bbox": [
            0.4151,
            0.6111,
            0.05989,
            0.06018
           ],
           "category": "1",
           "conf": 0.192
          },
          {
           "bbox": [
            0.2197,
            0.3555,
            0.1781,
            0.2777
           ],
           "category": "1",
           "conf": 0.951
          }
         ],
         "file": "412.jpg",
         "max_detection_conf": 0.951
        },
        {
         "detections": [
          {
           "bbox": [
            0.4479,
            0.4592,
            0.09375,
            0.2249
           ],
           "category": "1",
           "conf": 0.955
          }
         ],
         "file": "413.jpg",
         "max_detection_conf": 0.955
        },
        {
         "detections": [
          {
           "bbox": [
            0.3645,
            0.3212,
            0.1583,
            0.1916
           ],
           "category": "1",
           "conf": 0.961
          }
         ],
         "file": "414.jpg",
         "max_detection_conf": 0.961
        },
        {
         "detections": [
          {
           "bbox": [
            0.4171,
            0.6185,
            0.05572,
            0.05
           ],
           "category": "1",
           "conf": 0.0166
          },
          {
           "bbox": [
            0.6958,
            0.5296,
            0.1421,
            0.1601
           ],
           "category": "1",
           "conf": 0.952
          }
         ],
         "file": "415.jpg",
         "max_detection_conf": 0.952
        },
        {
         "detections": [
          {
           "bbox": [
            0.4166,
            0.6083,
            0.06718,
            0.06018
           ],
           "category": "1",
           "conf": 0.00809
          },
          {
           "bbox": [
            0.4432,
            0.6111,
            0.2125,
            0.1537
           ],
           "category": "1",
           "conf": 0.863
          }
         ],
         "file": "416.jpg",
         "max_detection_conf": 0.863
        },
        {
         "detections": [
          {
           "bbox": [
            0.4166,
            0.6185,
            0.05624,
            0.05
           ],
           "category": "1",
           "conf": 0.0218
          },
          {
           "bbox": [
            0.438,
            0.4453,
            0.09739,
            0.1861
           ],
           "category": "1",
           "conf": 0.953
          }
         ],
         "file": "417.jpg",
         "max_detection_conf": 0.953
        },
        {
         "detections": [
          {
           "bbox": [
            0.4166,
            0.6148,
            0.05677,
            0.05462
           ],
           "category": "1",
           "conf": 0.0197
          },
          {
           "bbox": [
            0.3307,
            0.4592,
            0.1755,
            0.1555
           ],
           "category": "1",
           "conf": 0.947
          }
         ],
         "file": "418.jpg",
         "max_detection_conf": 0.947
        },
        {
         "detections": [
          {
           "bbox": [
            0.4171,
            0.6194,
            0.05624,
            0.05
           ],
           "category": "1",
           "conf": 0.0299
          },
          {
           "bbox": [
            0.2937,
            0.4759,
            0.1828,
            0.1435
           ],
           "category": "1",
           "conf": 0.931
          }
         ],
         "file": "419.jpg",
         "max_detection_conf": 0.931
        },
        {
         "detections": [
          {
           "bbox": [
            0.4171,
            0.6185,
            0.05624,
            0.05185
           ],
           "category": "1",
           "conf": 0.224
          },
          {
           "bbox": [
            0.239,
            0.4898,
            0.1859,
            0.1425
           ],
           "category": "1",
           "conf": 0.941
          }
         ],
         "file": "420.jpg",
         "max_detection_conf": 0.941
        },
        {
         "detections": [
          {
           "bbox": [
            0.4171,
            0.6194,
            0.05572,
            0.05
           ],
           "category": "1",
           "conf": 0.0743
          },
          {
           "bbox": [
            0.1682,
            0.4277,
            0.1864,
            0.2064
           ],
           "category": "1",
           "conf": 0.949
          }
         ],
         "file": "421.jpg",
         "max_detection_conf": 0.949
        },
        {
         "detections": [
          {
           "bbox": [
            0.4588,
            0.4592,
            0.1614,
            0.1388
           ],
           "category": "1",
           "conf": 0.94
          }
         ],
         "file": "422.jpg",
         "max_detection_conf": 0.94
        },
        {
         "detections": [
          {
           "bbox": [
            0.4781,
            0.3592,
            0.09062,
            0.237
           ],
           "category": "1",
           "conf": 0.884
          }
         ],
         "file": "423.jpg",
         "max_detection_conf": 0.884
        },
        {
         "detections": [
          {
           "bbox": [
            0.4619,
            0.3685,
            0.1447,
            0.2083
           ],
           "category": "1",
           "conf": 0.958
          }
         ],
         "file": "424.jpg",
         "max_detection_conf": 0.958
        },
        {
         "detections": [
          {
           "bbox": [
            0.275,
            0.462,
            0.1401,
            0.2074
           ],
           "category": "1",
           "conf": 0.942
          }
         ],
         "file": "425.jpg",
         "max_detection_conf": 0.942
        },
        {
         "detections": [
          {
           "bbox": [
            0.5036,
            0.3027,
            0.05572,
            0.1518
           ],
           "category": "1",
           "conf": 0.0598
          },
          {
           "bbox": [
            0.5192,
            0.0287,
            0.09739,
            0.1833
           ],
           "category": "1",
           "conf": 0.895
          }
         ],
         "file": "426.jpg",
         "max_detection_conf": 0.895
        },
        {
         "detections": [
          {
           "bbox": [
            0.4526,
            0.6055,
            0.1953,
            0.1388
           ],
           "category": "1",
           "conf": 0.865
          }
         ],
         "file": "427.jpg",
         "max_detection_conf": 0.865
        },
        {
         "detections": [
          {
           "bbox": [
            0.8958,
            0.02962,
            0.1031,
            0.1666
           ],
           "category": "1",
           "conf": 0.0282
          },
          {
           "bbox": [
            0.8963,
            0.02962,
            0.02708,
            0.0787
           ],
           "category": "1",
           "conf": 0.0425
          },
          {
           "bbox": [
            0.3307,
            0.3287,
            0.164,
            0.1972
           ],
           "category": "1",
           "conf": 0.944
          }
         ],
         "file": "428.jpg",
         "max_detection_conf": 0.944
        },
        {
         "detections": [
          {
           "bbox": [
            0.889,
            0.03148,
            0.0526,
            0.1296
           ],
           "category": "1",
           "conf": 0.016
          },
          {
           "bbox": [
            0.8453,
            0.02962,
            0.07916,
            0.08611
           ],
           "category": "1",
           "conf": 0.0174
          },
          {
           "bbox": [
            0.9364,
            0.09907,
            0.06354,
            0.08518
           ],
           "category": "1",
           "conf": 0.0487
          },
          {
           "bbox": [
            0.8901,
            0.03055,
            0.1067,
            0.1462
           ],
           "category": "1",
           "conf": 0.051
          },
          {
           "bbox": [
            0.8911,
            0.0287,
            0.03333,
            0.08518
           ],
           "category": "1",
           "conf": 0.266
          },
          {
           "bbox": [
            0.4291,
            0.4472,
            0.177,
            0.1546
           ],
           "category": "1",
           "conf": 0.737
          }
         ],
         "file": "429.jpg",
         "max_detection_conf": 0.737
        },
        {
         "detections": [
          {
           "bbox": [
            0.9364,
            0.09907,
            0.06354,
            0.08518
           ],
           "category": "1",
           "conf": 0.00829
          },
          {
           "bbox": [
            0.8901,
            0.03055,
            0.1072,
            0.1435
           ],
           "category": "1",
           "conf": 0.009
          },
          {
           "bbox": [
            0.3494,
            0.5,
            0.05937,
            0.05925
           ],
           "category": "1",
           "conf": 0.0117
          },
          {
           "bbox": [
            0.8911,
            0.0287,
            0.03281,
            0.08518
           ],
           "category": "1",
           "conf": 0.094
          },
          {
           "bbox": [
            0.338,
            0.5064,
            0.1182,
            0.1712
           ],
           "category": "1",
           "conf": 0.214
          }
         ],
         "file": "430.jpg",
         "max_detection_conf": 0.214
        },
        {
         "detections": [
          {
           "bbox": [
            0.4692,
            0.612,
            0.1031,
            0.2462
           ],
           "category": "1",
           "conf": 0.84
          }
         ],
         "file": "431.jpg",
         "max_detection_conf": 0.84
        },
        {
         "detections": [
          {
           "bbox": [
            0.4,
            0.762,
            0.1401,
            0.2074
           ],
           "category": "1",
           "conf": 0.924
          }
         ],
         "file": "432.jpg",
         "max_detection_conf": 0.924
        },
        {
         "detections": [
          {
           "bbox": [
            0.004166,
            0.02129,
            0.9921,
            0.9574
           ],
           "category": "2",
           "conf": 0.00826
          }
         ],
         "file": "433.jpg",
         "max_detection_conf": 0.00826
        },
        {
         "detections": [
          {
           "bbox": [
            0.4145,
            0.6222,
            0.05781,
            0.05277
           ],
           "category": "1",
           "conf": 0.00982
          },
          {
           "bbox": [
            0.263,
            0.437,
            0.1796,
            0.2175
           ],
           "category": "1",
           "conf": 0.9
          }
         ],
         "file": "434.jpg",
         "max_detection_conf": 0.9
        },
        {
         "detections": [
          {
           "bbox": [
            0.289,
            0.6249,
            0.2166,
            0.1333
           ],
           "category": "1",
           "conf": 0.922
          }
         ],
         "file": "435.jpg",
         "max_detection_conf": 0.922
        },
        {
         "detections": [
          {
           "bbox": [
            0.6651,
            0.5249,
            0.1697,
            0.1731
           ],
           "category": "1",
           "conf": 0.951
          }
         ],
         "file": "436.jpg",
         "max_detection_conf": 0.951
        },
        {
         "detections": [
          {
           "bbox": [
            0.8937,
            0.0287,
            0.03125,
            0.08518
           ],
           "category": "1",
           "conf": 0.0448
          },
          {
           "bbox": [
            0.7817,
            0.3277,
            0.1088,
            0.2111
           ],
           "category": "1",
           "conf": 0.932
          }
         ],
         "file": "437.jpg",
         "max_detection_conf": 0.932
        },
        {
         "detections": [
          {
           "bbox": [
            0.2614,
            0.2833,
            0.1895,
            0.1944
           ],
           "category": "1",
           "conf": 0.917
          }
         ],
         "file": "438.jpg",
         "max_detection_conf": 0.917
        },
        {
         "detections": [
          {
           "bbox": [
            0.3885,
            0.2944,
            0.1661,
            0.2249
           ],
           "category": "1",
           "conf": 0.849
          }
         ],
         "file": "439.jpg",
         "max_detection_conf": 0.849
        },
        {
         "detections": [
          {
           "bbox": [
            0.8968,
            0.0287,
            0.02552,
            0.08425
           ],
           "category": "1",
           "conf": 0.0573
          },
          {
           "bbox": [
            0.2973,
            0.3009,
            0.1557,
            0.2111
           ],
           "category": "1",
           "conf": 0.958
          }
         ],
         "file": "440.jpg",
         "max_detection_conf": 0.958
        },
        {
         "detections": [
          {
           "bbox": [
            0.8968,
            0.0287,
            0.02552,
            0.08425
           ],
           "category": "1",
           "conf": 0.0384
          },
          {
           "bbox": [
            0.6765,
            0.512,
            0.1749,
            0.1518
           ],
           "category": "1",
           "conf": 0.948
          }
         ],
         "file": "441.jpg",
         "max_detection_conf": 0.948
        },
        {
         "detections": [
          {
           "bbox": [
            0.8963,
            0.0287,
            0.1031,
            0.09074
           ],
           "category": "1",
           "conf": 0.00801
          },
          {
           "bbox": [
            0.8973,
            0.0287,
            0.025,
            0.08518
           ],
           "category": "1",
           "conf": 0.234
          },
          {
           "bbox": [
            0.7864,
            0.3453,
            0.101,
            0.2101
           ],
           "category": "1",
           "conf": 0.939
          }
         ],
         "file": "442.jpg",
         "max_detection_conf": 0.939
        },
        {
         "detections": [
          {
           "bbox": [
            0.814,
            0.5092,
            0.1859,
            0.1638
           ],
           "category": "1",
           "conf": 0.921
          }
         ],
         "file": "443.jpg",
         "max_detection_conf": 0.921
        },
        {
         "detections": [
          {
           "bbox": [
            0.7604,
            0.5129,
            0.214,
            0.1268
           ],
           "category": "1",
           "conf": 0.95
          }
         ],
         "file": "444.jpg",
         "max_detection_conf": 0.95
        },
        {
         "detections": [
          {
           "bbox": [
            0,
            0.02129,
            0.9437,
            0.9509
           ],
           "category": "2",
           "conf": 0.00604
          },
          {
           "bbox": [
            0.7046,
            0.8129,
            0.289,
            0.1564
           ],
           "category": "2",
           "conf": 0.00767
          },
          {
           "bbox": [
            0.7067,
            0.8731,
            0.177,
            0.09722
           ],
           "category": "2",
           "conf": 0.269
          },
          {
           "bbox": [
            0.8333,
            0.5287,
            0.1661,
            0.1462
           ],
           "category": "1",
           "conf": 0.933
          }
         ],
         "file": "445.jpg",
         "max_detection_conf": 0.933
        },
        {
         "detections": [
          {
           "bbox": [
            0,
            0.02314,
            0.9458,
            0.9472
           ],
           "category": "2",
           "conf": 0.0107
          },
          {
           "bbox": [
            0.7052,
            0.8083,
            0.2901,
            0.1611
           ],
           "category": "2",
           "conf": 0.0108
          },
          {
           "bbox": [
            0.7067,
            0.8731,
            0.1781,
            0.09722
           ],
           "category": "2",
           "conf": 0.192
          },
          {
           "bbox": [
            0.8843,
            0.5268,
            0.1156,
            0.1472
           ],
           "category": "1",
           "conf": 0.938
          }
         ],
         "file": "446.jpg",
         "max_detection_conf": 0.938
        },
        {
         "detections": [
          {
           "bbox": [
            0.7067,
            0.8435,
            0.1765,
            0.1259
           ],
           "category": "2",
           "conf": 0.0232
          },
          {
           "bbox": [
            0.7755,
            0.5129,
            0.177,
            0.1462
           ],
           "category": "1",
           "conf": 0.927
          }
         ],
         "file": "448.jpg",
         "max_detection_conf": 0.927
        },
        {
         "detections": [
          {
           "bbox": [
            0.0005208,
            0.02314,
            0.9583,
            0.9453
           ],
           "category": "2",
           "conf": 0.0169
          },
          {
           "bbox": [
            0.7072,
            0.7759,
            0.2927,
            0.1925
           ],
           "category": "2",
           "conf": 0.0184
          },
          {
           "bbox": [
            0.7067,
            0.8731,
            0.1776,
            0.09722
           ],
           "category": "2",
           "conf": 0.209
          }
         ],
         "file": "447.jpg",
         "max_detection_conf": 0.209
        },
        {
         "detections": [
          {
           "bbox": [
            0.5947,
            0.6324,
            0.1619,
            0.2481
           ],
           "category": "1",
           "conf": 0.961
          }
         ],
         "file": "449.jpg",
         "max_detection_conf": 0.961
        },
        {
         "detections": [
          {
           "bbox": [
            0.8354,
            0.5731,
            0.163,
            0.1342
           ],
           "category": "1",
           "conf": 0.932
          }
         ],
         "file": "450.jpg",
         "max_detection_conf": 0.932
        },
        {
         "detections": [
          {
           "bbox": [
            0.5755,
            0.7009,
            0.1807,
            0.2129
           ],
           "category": "1",
           "conf": 0.954
          }
         ],
         "file": "451.jpg",
         "max_detection_conf": 0.954
        },
        {
         "detections": [
          {
           "bbox": [
            0.7338,
            0.512,
            0.2125,
            0.1333
           ],
           "category": "1",
           "conf": 0.947
          }
         ],
         "file": "452.jpg",
         "max_detection_conf": 0.947
        },
        {
         "detections": [
          {
           "bbox": [
            0.5843,
            0.5361,
            0.1942,
            0.1657
           ],
           "category": "1",
           "conf": 0.931
          }
         ],
         "file": "453.jpg",
         "max_detection_conf": 0.931
        },
        {
         "detections": [
          {
           "bbox": [
            0.8786,
            0.5324,
            0.1213,
            0.1277
           ],
           "category": "1",
           "conf": 0.904
          },
          {
           "bbox": [
            0.351,
            0.5388,
            0.1812,
            0.1481
           ],
           "category": "1",
           "conf": 0.945
          }
         ],
         "file": "454.jpg",
         "max_detection_conf": 0.945
        },
        {
         "detections": [
          {
           "bbox": [
            0,
            0.9,
            0.1416,
            0.07037
           ],
           "category": "1",
           "conf": 0.847
          },
          {
           "bbox": [
            0.6135,
            0.5074,
            0.1822,
            0.1962
           ],
           "category": "1",
           "conf": 0.953
          }
         ],
         "file": "455.jpg",
         "max_detection_conf": 0.953
        },
        {
         "detections": [
          {
           "bbox": [
            0.5833,
            0.6675,
            0.1661,
            0.274
           ],
           "category": "1",
           "conf": 0.943
          }
         ],
         "file": "456.jpg",
         "max_detection_conf": 0.943
        },
        {
         "detections": [
          {
           "bbox": [
            0,
            0.1638,
            0.08489,
            0.1185
           ],
           "category": "1",
           "conf": 0.874
          },
          {
           "bbox": [
            0.3927,
            0.4398,
            0.1791,
            0.149
           ],
           "category": "1",
           "conf": 0.943
          }
         ],
         "file": "461.jpg",
         "max_detection_conf": 0.943
        },
        {
         "detections": [
          {
           "bbox": [
            0.4156,
            0.6212,
            0.05624,
            0.05092
           ],
           "category": "1",
           "conf": 0.0211
          },
          {
           "bbox": [
            0.2286,
            0.3009,
            0.1864,
            0.2666
           ],
           "category": "1",
           "conf": 0.932
          }
         ],
         "file": "462.jpg",
         "max_detection_conf": 0.932
        },
        {
         "detections": [
          {
           "bbox": [
            0,
            0.02222,
            0.9968,
            0.9527
           ],
           "category": "2",
           "conf": 0.00788
          }
         ],
         "file": "463.jpg",
         "max_detection_conf": 0.00788
        },
        {
         "detections": [
          {
           "bbox": [
            0.8453,
            0.5101,
            0.1546,
            0.1462
           ],
           "category": "1",
           "conf": 0.944
          },
          {
           "bbox": [
            0.4223,
            0.4935,
            0.07916,
            0.2703
           ],
           "category": "1",
           "conf": 0.948
          }
         ],
         "file": "465.jpg",
         "max_detection_conf": 0.948
        },
        {
         "detections": [
          {
           "bbox": [
            0,
            0.6527,
            0.0651,
            0.3148
           ],
           "category": "1",
           "conf": 0.00646
          },
          {
           "bbox": [
            0,
            0.8249,
            0.06614,
            0.1444
           ],
           "category": "1",
           "conf": 0.0238
          },
          {
           "bbox": [
            0.6822,
            0.02777,
            0.1843,
            0.05833
           ],
           "category": "1",
           "conf": 0.048
          },
          {
           "bbox": [
            0,
            0.9037,
            0.06614,
            0.06574
           ],
           "category": "1",
           "conf": 0.45
          }
         ],
         "file": "464.jpg",
         "max_detection_conf": 0.45
        },
        {
         "detections": [
          {
           "bbox": [
            0.4036,
            0.562,
            0.1015,
            0.224
           ],
           "category": "1",
           "conf": 0.956
          },
          {
           "bbox": [
            0.6604,
            0.5157,
            0.2015,
            0.1546
           ],
           "category": "1",
           "conf": 0.963
          }
         ],
         "file": "466.jpg",
         "max_detection_conf": 0.963
        },
        {
         "detections": [
          {
           "bbox": [
            0,
            0.01759,
            0.9973,
            0.9638
           ],
           "category": "2",
           "conf": 0.0052
          }
         ],
         "file": "467.jpg",
         "max_detection_conf": 0.0052
        },
        {
         "detections": [
          {
           "bbox": [
            0,
            0.02129,
            0.9468,
            0.9518
           ],
           "category": "2",
           "conf": 0.00859
          },
          {
           "bbox": [
            0.7067,
            0.8731,
            0.1776,
            0.09722
           ],
           "category": "2",
           "conf": 0.216
          },
          {
           "bbox": [
            0.8661,
            0.5314,
            0.1338,
            0.1333
           ],
           "category": "1",
           "conf": 0.918
          }
         ],
         "file": "468.jpg",
         "max_detection_conf": 0.918
        },
        {
         "detections": [
          {
           "bbox": [
            0.7078,
            0.6611,
            0.1895,
            0.274
           ],
           "category": "1",
           "conf": 0.952
          }
         ],
         "file": "469.jpg",
         "max_detection_conf": 0.952
        },
        {
         "detections": [
          {
           "bbox": [
            0.6588,
            0.5629,
            0.1161,
            0.2398
           ],
           "category": "1",
           "conf": 0.957
          }
         ],
         "file": "470.jpg",
         "max_detection_conf": 0.957
        },
        {
         "detections": [
          {
           "bbox": [
            0.9848,
            0.5629,
            0.0151,
            0.1296
           ],
           "category": "1",
           "conf": 0.0115
          },
          {
           "bbox": [
            0.9848,
            0.5648,
            0.0151,
            0.05555
           ],
           "category": "1",
           "conf": 0.0244
          },
          {
           "bbox": [
            0.7343,
            0.5712,
            0.1958,
            0.1472
           ],
           "category": "1",
           "conf": 0.958
          }
         ],
         "file": "471.jpg",
         "max_detection_conf": 0.958
        },
        {
         "detections": [
          {
           "bbox": [
            0.8218,
            0.55,
            0.1609,
            0.1574
           ],
           "category": "1",
           "conf": 0.946
          }
         ],
         "file": "472.jpg",
         "max_detection_conf": 0.946
        },
        {
         "detections": [],
         "file": "473.jpg",
         "max_detection_conf": 0
        },
        {
         "detections": [
          {
           "bbox": [
            0.5541,
            0.2027,
            0.03177,
            0.1574
           ],
           "category": "1",
           "conf": 0.272
          }
         ],
         "file": "333.jpg",
         "max_detection_conf": 0.272
        },
        {
         "detections": [
          {
           "bbox": [
            0.7171,
            0.2648,
            0.02916,
            0.262
           ],
           "category": "1",
           "conf": 0.581
          }
         ],
         "file": "334.jpg",
         "max_detection_conf": 0.581
        },
        {
         "detections": [
          {
           "bbox": [
            0,
            0.9324,
            0.04531,
            0.03703
           ],
           "category": "1",
           "conf": 0.0295
          }
         ],
         "file": "335.jpg",
         "max_detection_conf": 0.0295
        },
        {
         "detections": [
          {
           "bbox": [
            0.8046,
            0.0287,
            0.0427,
            0.3666
           ],
           "category": "1",
           "conf": 0.0138
          },
          {
           "bbox": [
            0.8156,
            0.2416,
            0.03125,
            0.1648
           ],
           "category": "1",
           "conf": 0.361
          }
         ],
         "file": "336.jpg",
         "max_detection_conf": 0.361
        },
        {
         "detections": [
          {
           "bbox": [
            0.0005208,
            0.5972,
            0.239,
            0.3722
           ],
           "category": "1",
           "conf": 0.961
          }
         ],
         "file": "337.jpg",
         "max_detection_conf": 0.961
        },
        {
         "detections": [
          {
           "bbox": [
            0.1598,
            0.5231,
            0.1843,
            0.3731
           ],
           "category": "1",
           "conf": 0.955
          }
         ],
         "file": "338.jpg",
         "max_detection_conf": 0.955
        },
        {
         "detections": [
          {
           "bbox": [
            0.5859,
            0.4129,
            0.2432,
            0.2898
           ],
           "category": "1",
           "conf": 0.931
          }
         ],
         "file": "339.jpg",
         "max_detection_conf": 0.931
        },
        {
         "detections": [
          {
           "bbox": [
            0.6296,
            0.3481,
            0.1994,
            0.3259
           ],
           "category": "1",
           "conf": 0.925
          }
         ],
         "file": "340.jpg",
         "max_detection_conf": 0.925
        },
        {
         "detections": [
          {
           "bbox": [
            0.6755,
            0.3064,
            0.1536,
            0.3009
           ],
           "category": "1",
           "conf": 0.914
          }
         ],
         "file": "341.jpg",
         "max_detection_conf": 0.914
        },
        {
         "detections": [
          {
           "bbox": [
            0.6406,
            0.4203,
            0.05572,
            0.2046
           ],
           "category": "1",
           "conf": 0.822
          }
         ],
         "file": "342.jpg",
         "max_detection_conf": 0.822
        },
        {
         "detections": [],
         "file": "343.jpg",
         "max_detection_conf": 0
        },
        {
         "detections": [
          {
           "bbox": [
            0.6057,
            0.3712,
            0.2776,
            0.3898
           ],
           "category": "1",
           "conf": 0.956
          }
         ],
         "file": "344.jpg",
         "max_detection_conf": 0.956
        },
        {
         "detections": [
          {
           "bbox": [
            0,
            0.3805,
            0.2083,
            0.3212
           ],
           "category": "1",
           "conf": 0.969
          }
         ],
         "file": "345.jpg",
         "max_detection_conf": 0.969
        },
        {
         "detections": [
          {
           "bbox": [
            0,
            0.5833,
            0.3057,
            0.3861
           ],
           "category": "1",
           "conf": 0.979
          }
         ],
         "file": "346.jpg",
         "max_detection_conf": 0.979
        },
        {
         "detections": [
          {
           "bbox": [
            0,
            0.3712,
            0.102,
            0.2629
           ],
           "category": "1",
           "conf": 0.85
          }
         ],
         "file": "347.jpg",
         "max_detection_conf": 0.85
        },
        {
         "detections": [
          {
           "bbox": [
            0,
            0.362,
            0.1161,
            0.324
           ],
           "category": "1",
           "conf": 0.919
          }
         ],
         "file": "348.jpg",
         "max_detection_conf": 0.919
        },
        {
         "detections": [
          {
           "bbox": [
            0,
            0.9324,
            0.04531,
            0.03796
           ],
           "category": "1",
           "conf": 0.0514
          },
          {
           "bbox": [
            0.0005208,
            0.8361,
            0.1223,
            0.1342
           ],
           "category": "1",
           "conf": 0.0648
          },
          {
           "bbox": [
            0,
            0.537,
            0.1223,
            0.4203
           ],
           "category": "1",
           "conf": 0.9
          }
         ],
         "file": "349.jpg",
         "max_detection_conf": 0.9
        },
        {
         "detections": [
          {
           "bbox": [
            0,
            0.5046,
            0.1531,
            0.4435
           ],
           "category": "1",
           "conf": 0.966
          }
         ],
         "file": "350.jpg",
         "max_detection_conf": 0.966
        },
        {
         "detections": [
          {
           "bbox": [
            0,
            0.5027,
            0.2239,
            0.4657
           ],
           "category": "1",
           "conf": 0.966
          }
         ],
         "file": "351.jpg",
         "max_detection_conf": 0.966
        },
        {
         "detections": [
          {
           "bbox": [
            0,
            0.5287,
            0.1755,
            0.424
           ],
           "category": "1",
           "conf": 0.971
          }
         ],
         "file": "352.jpg",
         "max_detection_conf": 0.971
        },
        {
         "detections": [
          {
           "bbox": [
            0.0005208,
            0.8333,
            0.0802,
            0.137
           ],
           "category": "1",
           "conf": 0.00731
          },
          {
           "bbox": [
            0,
            0.5907,
            0.176,
            0.3787
           ],
           "category": "1",
           "conf": 0.967
          }
         ],
         "file": "353.jpg",
         "max_detection_conf": 0.967
        },
        {
         "detections": [
          {
           "bbox": [
            0.627,
            0.3805,
            0.06302,
            0.1361
           ],
           "category": "1",
           "conf": 0.231
          }
         ],
         "file": "354.jpg",
         "max_detection_conf": 0.231
        },
        {
         "detections": [
          {
           "bbox": [
            0.6432,
            0.2685,
            0.03697,
            0.1907
           ],
           "category": "1",
           "conf": 0.618
          }
         ],
         "file": "355.jpg",
         "max_detection_conf": 0.618
        },
        {
         "detections": [
          {
           "bbox": [
            0.01249,
            0.3564,
            0.09062,
            0.3046
           ],
           "category": "1",
           "conf": 0.903
          }
         ],
         "file": "356.jpg",
         "max_detection_conf": 0.903
        },
        {
         "detections": [
          {
           "bbox": [
            0.01249,
            0.3564,
            0.09062,
            0.3046
           ],
           "category": "1",
           "conf": 0.903
          }
         ],
         "file": "357.jpg",
         "max_detection_conf": 0.903
        },
        {
         "detections": [
          {
           "bbox": [
            0.01041,
            0.4833,
            0.1427,
            0.3666
           ],
           "category": "1",
           "conf": 0.913
          }
         ],
         "file": "359.jpg",
         "max_detection_conf": 0.913
        },
        {
         "detections": [
          {
           "bbox": [
            0.4406,
            0.3972,
            0.09635,
            0.08611
           ],
           "category": "1",
           "conf": 0.00835
          }
         ],
         "file": "360.jpg",
         "max_detection_conf": 0.00835
        },
        {
         "detections": [
          {
           "bbox": [
            0.01041,
            0.4833,
            0.1427,
            0.3666
           ],
           "category": "1",
           "conf": 0.913
          }
         ],
         "file": "358.jpg",
         "max_detection_conf": 0.913
        },
        {
         "detections": [
          {
           "bbox": [
            0.5958,
            0.375,
            0.06562,
            0.1305
           ],
           "category": "1",
           "conf": 0.731
          }
         ],
         "file": "361.jpg",
         "max_detection_conf": 0.731
        },
        {
         "detections": [
          {
           "bbox": [
            0.4453,
            0.5407,
            0.0677,
            0.1361
           ],
           "category": "1",
           "conf": 0.043
          }
         ],
         "file": "362.jpg",
         "max_detection_conf": 0.043
        },
        {
         "detections": [
          {
           "bbox": [
            0,
            0.9305,
            0.04687,
            0.03981
           ],
           "category": "1",
           "conf": 0.00516
          }
         ],
         "file": "363.jpg",
         "max_detection_conf": 0.00516
        },
        {
         "detections": [],
         "file": "364.jpg",
         "max_detection_conf": 0
        },
        {
         "detections": [
          {
           "bbox": [
            0.9031,
            0.8,
            0.09687,
            0.1685
           ],
           "category": "2",
           "conf": 0.0118
          },
          {
           "bbox": [
            0.03489,
            0.02962,
            0.8515,
            0.8648
           ],
           "category": "1",
           "conf": 0.0182
          }
         ],
         "file": "366.jpg",
         "max_detection_conf": 0.0182
        },
        {
         "detections": [
          {
           "bbox": [
            0.8531,
            0.02777,
            0.04374,
            0.02685
           ],
           "category": "1",
           "conf": 0.0135
          },
          {
           "bbox": [
            0.2859,
            0.5546,
            0.4791,
            0.4148
           ],
           "category": "1",
           "conf": 0.967
          }
         ],
         "file": "367.jpg",
         "max_detection_conf": 0.967
        },
        {
         "detections": [
          {
           "bbox": [
            0.8682,
            0.02777,
            0.03958,
            0.02592
           ],
           "category": "1",
           "conf": 0.00603
          },
          {
           "bbox": [
            0.276,
            0.2074,
            0.1244,
            0.262
           ],
           "category": "1",
           "conf": 0.959
          }
         ],
         "file": "368.jpg",
         "max_detection_conf": 0.959
        },
        {
         "detections": [],
         "file": "369.jpg",
         "max_detection_conf": 0
        },
        {
         "detections": [],
         "file": "370.jpg",
         "max_detection_conf": 0
        },
        {
         "detections": [
          {
           "bbox": [
            0,
            0.01481,
            0.9979,
            0.9851
           ],
           "category": "2",
           "conf": 0.005
          }
         ],
         "file": "371.jpg",
         "max_detection_conf": 0.005
        },
        {
         "detections": [],
         "file": "372.jpg",
         "max_detection_conf": 0
        },
        {
         "detections": [
          {
           "bbox": [
            0,
            0.01388,
            0.9963,
            0.9861
           ],
           "category": "2",
           "conf": 0.00708
          }
         ],
         "file": "373.jpg",
         "max_detection_conf": 0.00708
        },
        {
         "detections": [],
         "file": "374.jpg",
         "max_detection_conf": 0
        },
        {
         "detections": [
          {
           "bbox": [
            0,
            0.01018,
            0.9984,
            0.9898
           ],
           "category": "2",
           "conf": 0.00734
          }
         ],
         "file": "375.jpg",
         "max_detection_conf": 0.00734
        },
        {
         "detections": [],
         "file": "378.jpg",
         "max_detection_conf": 0
        },
        {
         "detections": [
          {
           "bbox": [
            0.0005208,
            0.01296,
            0.9968,
            0.9851
           ],
           "category": "2",
           "conf": 0.00671
          }
         ],
         "file": "379.jpg",
         "max_detection_conf": 0.00671
        },
        {
         "detections": [
          {
           "bbox": [
            0.0005208,
            0.01388,
            0.9973,
            0.9833
           ],
           "category": "2",
           "conf": 0.00636
          }
         ],
         "file": "380.jpg",
         "max_detection_conf": 0.00636
        },
        {
         "detections": [
          {
           "bbox": [
            0.0005208,
            0.01481,
            0.9973,
            0.9842
           ],
           "category": "2",
           "conf": 0.00772
          }
         ],
         "file": "381.jpg",
         "max_detection_conf": 0.00772
        },
        {
         "detections": [],
         "file": "382.jpg",
         "max_detection_conf": 0
        },
        {
         "detections": [
          {
           "bbox": [
            0.001041,
            0.01388,
            0.9963,
            0.9814
           ],
           "category": "2",
           "conf": 0.00521
          }
         ],
         "file": "383.jpg",
         "max_detection_conf": 0.00521
        },
        {
         "detections": [
          {
           "bbox": [
            0.5187,
            0.3148,
            0.075,
            0.2509
           ],
           "category": "1",
           "conf": 0.862
          }
         ],
         "file": "384.jpg",
         "max_detection_conf": 0.862
        },
        {
         "detections": [
          {
           "bbox": [
            0.5437,
            0.3444,
            0.1223,
            0.1527
           ],
           "category": "1",
           "conf": 0.863
          }
         ],
         "file": "385.jpg",
         "max_detection_conf": 0.863
        },
        {
         "detections": [
          {
           "bbox": [
            0.4729,
            0.4518,
            0.06875,
            0.2518
           ],
           "category": "1",
           "conf": 0.892
          }
         ],
         "file": "386.jpg",
         "max_detection_conf": 0.892
        },
        {
         "detections": [
          {
           "bbox": [
            0.7062,
            0.4435,
            0.05364,
            0.125
           ],
           "category": "1",
           "conf": 0.0071
          },
          {
           "bbox": [
            0.6656,
            0.4027,
            0.09375,
            0.1638
           ],
           "category": "1",
           "conf": 0.919
          }
         ],
         "file": "387.jpg",
         "max_detection_conf": 0.919
        },
        {
         "detections": [
          {
           "bbox": [
            0.7531,
            0.7907,
            0.07812,
            0.1787
           ],
           "category": "1",
           "conf": 0.845
          }
         ],
         "file": "388.jpg",
         "max_detection_conf": 0.845
        },
        {
         "detections": [
          {
           "bbox": [
            0.5614,
            0.7814,
            0.2093,
            0.1472
           ],
           "category": "1",
           "conf": 0.89
          }
         ],
         "file": "389.jpg",
         "max_detection_conf": 0.89
        },
        {
         "detections": [
          {
           "bbox": [
            0.4984,
            0.7907,
            0.09114,
            0.1787
           ],
           "category": "1",
           "conf": 0.95
          }
         ],
         "file": "390.jpg",
         "max_detection_conf": 0.95
        },
        {
         "detections": [
          {
           "bbox": [
            0.01093,
            0.5694,
            0.1979,
            0.1509
           ],
           "category": "1",
           "conf": 0.949
          }
         ],
         "file": "391.jpg",
         "max_detection_conf": 0.949
        },
        {
         "detections": [
          {
           "bbox": [
            0,
            0.6129,
            0.1005,
            0.1259
           ],
           "category": "1",
           "conf": 0.79
          }
         ],
         "file": "392.jpg",
         "max_detection_conf": 0.79
        },
        {
         "detections": [
          {
           "bbox": [
            0,
            0.5046,
            0.1911,
            0.1657
           ],
           "category": "1",
           "conf": 0.958
          }
         ],
         "file": "396.jpg",
         "max_detection_conf": 0.958
        },
        {
         "detections": [
          {
           "bbox": [
            0.5401,
            0.375,
            0.1557,
            0.1222
           ],
           "category": "1",
           "conf": 0.954
          }
         ],
         "file": "397.jpg",
         "max_detection_conf": 0.954
        },
        {
         "detections": [
          {
           "bbox": [
            0,
            0.5712,
            0.08854,
            0.1351
           ],
           "category": "1",
           "conf": 0.846
          }
         ],
         "file": "398.jpg",
         "max_detection_conf": 0.846
        },
        {
         "detections": [
          {
           "bbox": [
            0.7723,
            0.5527,
            0.1541,
            0.1379
           ],
           "category": "1",
           "conf": 0.954
          }
         ],
         "file": "399.jpg",
         "max_detection_conf": 0.954
        },
        {
         "detections": [
          {
           "bbox": [
            0.8369,
            0.8351,
            0.07604,
            0.1166
           ],
           "category": "1",
           "conf": 0.0137
          },
          {
           "bbox": [
            0.6427,
            0.3999,
            0.1489,
            0.1666
           ],
           "category": "1",
           "conf": 0.947
          }
         ],
         "file": "400.jpg",
         "max_detection_conf": 0.947
        },
        {
         "detections": [],
         "file": "401.jpg",
         "max_detection_conf": 0
        },
        {
         "detections": [
          {
           "bbox": [
            0.5083,
            0.2962,
            0.07604,
            0.2842
           ],
           "category": "1",
           "conf": 0.752
          }
         ],
         "file": "402.jpg",
         "max_detection_conf": 0.752
        },
        {
         "detections": [
          {
           "bbox": [
            0.3453,
            0.8361,
            0.2265,
            0.1342
           ],
           "category": "1",
           "conf": 0.0162
          },
          {
           "bbox": [
            0.3317,
            0.6435,
            0.2421,
            0.3249
           ],
           "category": "1",
           "conf": 0.612
          }
         ],
         "file": "269.jpg",
         "max_detection_conf": 0.612
        },
        {
         "detections": [
          {
           "bbox": [
            0.338,
            0.7935,
            0.1411,
            0.1759
           ],
           "category": "1",
           "conf": 0.3
          }
         ],
         "file": "270.jpg",
         "max_detection_conf": 0.3
        },
        {
         "detections": [
          {
           "bbox": [
            0.338,
            0.7935,
            0.1411,
            0.1759
           ],
           "category": "1",
           "conf": 0.3
          }
         ],
         "file": "271.jpg",
         "max_detection_conf": 0.3
        },
        {
         "detections": [
          {
           "bbox": [
            0.2583,
            0.7981,
            0.1677,
            0.1712
           ],
           "category": "1",
           "conf": 0.00559
          },
          {
           "bbox": [
            0.3156,
            0.9064,
            0.1083,
            0.06296
           ],
           "category": "1",
           "conf": 0.313
          }
         ],
         "file": "272.jpg",
         "max_detection_conf": 0.313
        },
        {
         "detections": [
          {
           "bbox": [
            0.2583,
            0.7981,
            0.1677,
            0.1712
           ],
           "category": "1",
           "conf": 0.00559
          },
          {
           "bbox": [
            0.3156,
            0.9064,
            0.1083,
            0.06296
           ],
           "category": "1",
           "conf": 0.313
          }
         ],
         "file": "273.jpg",
         "max_detection_conf": 0.313
        },
        {
         "detections": [
          {
           "bbox": [
            0.1802,
            0.5129,
            0.4932,
            0.4564
           ],
           "category": "1",
           "conf": 0.894
          }
         ],
         "file": "274.jpg",
         "max_detection_conf": 0.894
        },
        {
         "detections": [
          {
           "bbox": [
            0.1802,
            0.5129,
            0.4932,
            0.4564
           ],
           "category": "1",
           "conf": 0.894
          }
         ],
         "file": "275.jpg",
         "max_detection_conf": 0.894
        },
        {
         "detections": [
          {
           "bbox": [
            0.01406,
            0.3935,
            0.4817,
            0.5759
           ],
           "category": "1",
           "conf": 0.816
          }
         ],
         "file": "276.jpg",
         "max_detection_conf": 0.816
        },
        {
         "detections": [
          {
           "bbox": [
            0.001041,
            0.7685,
            0.2593,
            0.2018
           ],
           "category": "1",
           "conf": 0.857
          }
         ],
         "file": "278.jpg",
         "max_detection_conf": 0.857
        },
        {
         "detections": [
          {
           "bbox": [
            0.001041,
            0.7685,
            0.2593,
            0.2018
           ],
           "category": "1",
           "conf": 0.857
          }
         ],
         "file": "279.jpg",
         "max_detection_conf": 0.857
        },
        {
         "detections": [
          {
           "bbox": [
            0.1546,
            0.6064,
            0.227,
            0.362
           ],
           "category": "1",
           "conf": 0.843
          }
         ],
         "file": "280.jpg",
         "max_detection_conf": 0.843
        },
        {
         "detections": [
          {
           "bbox": [
            0.01406,
            0.3935,
            0.4817,
            0.5759
           ],
           "category": "1",
           "conf": 0.816
          }
         ],
         "file": "277.jpg",
         "max_detection_conf": 0.816
        },
        {
         "detections": [
          {
           "bbox": [
            0.3281,
            0.4962,
            0.1317,
            0.449
           ],
           "category": "1",
           "conf": 0.847
          }
         ],
         "file": "282.jpg",
         "max_detection_conf": 0.847
        },
        {
         "detections": [
          {
           "bbox": [
            0.126,
            0.7231,
            0.1609,
            0.2453
           ],
           "category": "1",
           "conf": 0.874
          }
         ],
         "file": "284.jpg",
         "max_detection_conf": 0.874
        },
        {
         "detections": [
          {
           "bbox": [
            0.1546,
            0.6064,
            0.227,
            0.362
           ],
           "category": "1",
           "conf": 0.843
          }
         ],
         "file": "281.jpg",
         "max_detection_conf": 0.843
        },
        {
         "detections": [
          {
           "bbox": [
            0.3281,
            0.4962,
            0.1317,
            0.449
           ],
           "category": "1",
           "conf": 0.847
          }
         ],
         "file": "283.jpg",
         "max_detection_conf": 0.847
        },
        {
         "detections": [
          {
           "bbox": [
            0.126,
            0.7231,
            0.1609,
            0.2453
           ],
           "category": "1",
           "conf": 0.874
          }
         ],
         "file": "285.jpg",
         "max_detection_conf": 0.874
        },
        {
         "detections": [
          {
           "bbox": [
            0.1156,
            0.6111,
            0.1812,
            0.3564
           ],
           "category": "1",
           "conf": 0.82
          }
         ],
         "file": "286.jpg",
         "max_detection_conf": 0.82
        },
        {
         "detections": [
          {
           "bbox": [
            0,
            0.6083,
            0.06093,
            0.3611
           ],
           "category": "1",
           "conf": 0.841
          }
         ],
         "file": "288.jpg",
         "max_detection_conf": 0.841
        },
        {
         "detections": [
          {
           "bbox": [
            0.1156,
            0.6111,
            0.1812,
            0.3564
           ],
           "category": "1",
           "conf": 0.82
          }
         ],
         "file": "287.jpg",
         "max_detection_conf": 0.82
        },
        {
         "detections": [
          {
           "bbox": [
            0,
            0.9259,
            0.05416,
            0.04351
           ],
           "category": "1",
           "conf": 0.0316
          },
          {
           "bbox": [
            0.7744,
            0.4694,
            0.1093,
            0.2694
           ],
           "category": "1",
           "conf": 0.959
          }
         ],
         "file": "292.jpg",
         "max_detection_conf": 0.959
        },
        {
         "detections": [],
         "file": "289.jpg",
         "max_detection_conf": 0
        },
        {
         "detections": [
          {
           "bbox": [
            0,
            0.9268,
            0.05416,
            0.04259
           ],
           "category": "1",
           "conf": 0.0273
          },
          {
           "bbox": [
            0.4213,
            0.7249,
            0.1895,
            0.2453
           ],
           "category": "1",
           "conf": 0.973
          }
         ],
         "file": "291.jpg",
         "max_detection_conf": 0.973
        },
        {
         "detections": [
          {
           "bbox": [
            0,
            0.9268,
            0.05416,
            0.04259
           ],
           "category": "1",
           "conf": 0.0395
          },
          {
           "bbox": [
            0.4229,
            0.8499,
            0.08541,
            0.1194
           ],
           "category": "1",
           "conf": 0.944
          }
         ],
         "file": "290.jpg",
         "max_detection_conf": 0.944
        },
        {
         "detections": [
          {
           "bbox": [
            0.3796,
            0.7046,
            0.2536,
            0.2648
           ],
           "category": "1",
           "conf": 0.975
          }
         ],
         "file": "294.jpg",
         "max_detection_conf": 0.975
        },
        {
         "detections": [],
         "file": "293.jpg",
         "max_detection_conf": 0
        },
        {
         "detections": [],
         "file": "295.jpg",
         "max_detection_conf": 0
        },
        {
         "detections": [],
         "file": "296.jpg",
         "max_detection_conf": 0
        },
        {
         "detections": [
          {
           "bbox": [
            0.2718,
            0.7962,
            0.1739,
            0.1722
           ],
           "category": "1",
           "conf": 0.878
          }
         ],
         "file": "297.jpg",
         "max_detection_conf": 0.878
        },
        {
         "detections": [
          {
           "bbox": [
            0.3848,
            0.7361,
            0.05781,
            0.08333
           ],
           "category": "1",
           "conf": 0.00794
          },
          {
           "bbox": [
            0.4093,
            0.7361,
            0.03958,
            0.06944
           ],
           "category": "1",
           "conf": 0.273
          }
         ],
         "file": "298.jpg",
         "max_detection_conf": 0.273
        },
        {
         "detections": [
          {
           "bbox": [
            0.1234,
            0.7611,
            0.1786,
            0.2074
           ],
           "category": "1",
           "conf": 0.924
          }
         ],
         "file": "299.jpg",
         "max_detection_conf": 0.924
        },
        {
         "detections": [
          {
           "bbox": [
            0.2989,
            0.6972,
            0.2651,
            0.2722
           ],
           "category": "1",
           "conf": 0.908
          }
         ],
         "file": "300.jpg",
         "max_detection_conf": 0.908
        },
        {
         "detections": [],
         "file": "301.jpg",
         "max_detection_conf": 0
        },
        {
         "detections": [],
         "file": "302.jpg",
         "max_detection_conf": 0
        },
        {
         "detections": [],
         "file": "303.jpg",
         "max_detection_conf": 0
        },
        {
         "detections": [],
         "file": "304.jpg",
         "max_detection_conf": 0
        },
        {
         "detections": [],
         "file": "305.jpg",
         "max_detection_conf": 0
        },
        {
         "detections": [],
         "file": "306.jpg",
         "max_detection_conf": 0
        },
        {
         "detections": [
          {
           "bbox": [
            0.6385,
            0.2629,
            0.04583,
            0.1768
           ],
           "category": "1",
           "conf": 0.599
          }
         ],
         "file": "308.jpg",
         "max_detection_conf": 0.599
        },
        {
         "detections": [
          {
           "bbox": [
            0.7552,
            0.5638,
            0.1005,
            0.08148
           ],
           "category": "1",
           "conf": 0.806
          }
         ],
         "file": "309.jpg",
         "max_detection_conf": 0.806
        },
        {
         "detections": [
          {
           "bbox": [
            0.1291,
            0.7222,
            0.0651,
            0.2351
           ],
           "category": "1",
           "conf": 0.838
          }
         ],
         "file": "307.jpg",
         "max_detection_conf": 0.838
        },
        {
         "detections": [],
         "file": "310.jpg",
         "max_detection_conf": 0
        },
        {
         "detections": [
          {
           "bbox": [
            0,
            0.02407,
            1,
            0.9518
           ],
           "category": "2",
           "conf": 0.00799
          },
          {
           "bbox": [
            0.0005208,
            0.9324,
            0.04635,
            0.03703
           ],
           "category": "1",
           "conf": 0.00931
          },
          {
           "bbox": [
            0.788,
            0.0287,
            0.2119,
            0.7749
           ],
           "category": "1",
           "conf": 0.0155
          }
         ],
         "file": "311.jpg",
         "max_detection_conf": 0.0155
        },
        {
         "detections": [
          {
           "bbox": [
            0.6786,
            0.3222,
            0.04479,
            0.2444
           ],
           "category": "1",
           "conf": 0.809
          }
         ],
         "file": "313.jpg",
         "max_detection_conf": 0.809
        },
        {
         "detections": [
          {
           "bbox": [
            0,
            0.9314,
            0.04374,
            0.03888
           ],
           "category": "1",
           "conf": 0.0131
          }
         ],
         "file": "312.jpg",
         "max_detection_conf": 0.0131
        },
        {
         "detections": [
          {
           "bbox": [
            0.1953,
            0.6166,
            0.2786,
            0.3527
           ],
           "category": "1",
           "conf": 0.947
          }
         ],
         "file": "314.jpg",
         "max_detection_conf": 0.947
        },
        {
         "detections": [],
         "file": "315.jpg",
         "max_detection_conf": 0
        },
        {
         "detections": [
          {
           "bbox": [
            0,
            0.9324,
            0.04947,
            0.03796
           ],
           "category": "1",
           "conf": 0.00583
          },
          {
           "bbox": [
            0.7812,
            0.02592,
            0.2187,
            0.9444
           ],
           "category": "1",
           "conf": 0.0387
          }
         ],
         "file": "316.jpg",
         "max_detection_conf": 0.0387
        },
        {
         "detections": [],
         "file": "317.jpg",
         "max_detection_conf": 0
        },
        {
         "detections": [],
         "file": "318.jpg",
         "max_detection_conf": 0
        },
        {
         "detections": [
          {
           "bbox": [
            0.652,
            0.4731,
            0.03489,
            0.1749
           ],
           "category": "1",
           "conf": 0.161
          }
         ],
         "file": "319.jpg",
         "max_detection_conf": 0.161
        },
        {
         "detections": [
          {
           "bbox": [
            0,
            0.9314,
            0.04583,
            0.03888
           ],
           "category": "1",
           "conf": 0.0306
          }
         ],
         "file": "320.jpg",
         "max_detection_conf": 0.0306
        },
        {
         "detections": [
          {
           "bbox": [
            0.5182,
            0.5601,
            0.03281,
            0.1379
           ],
           "category": "1",
           "conf": 0.00509
          },
          {
           "bbox": [
            0.0005208,
            0.9314,
            0.04583,
            0.03796
           ],
           "category": "1",
           "conf": 0.0636
          }
         ],
         "file": "321.jpg",
         "max_detection_conf": 0.0636
        },
        {
         "detections": [
          {
           "bbox": [
            0.3739,
            0.8314,
            0.06562,
            0.05277
           ],
           "category": "1",
           "conf": 0.0101
          }
         ],
         "file": "322.jpg",
         "max_detection_conf": 0.0101
        },
        {
         "detections": [
          {
           "bbox": [
            0,
            0.7925,
            0.1729,
            0.1768
           ],
           "category": "1",
           "conf": 0.951
          }
         ],
         "file": "323.jpg",
         "max_detection_conf": 0.951
        },
        {
         "detections": [
          {
           "bbox": [
            0.2614,
            0.8953,
            0.102,
            0.075
           ],
           "category": "1",
           "conf": 0.914
          }
         ],
         "file": "324.jpg",
         "max_detection_conf": 0.914
        },
        {
         "detections": [
          {
           "bbox": [
            0.6333,
            0.04259,
            0.2005,
            0.2916
           ],
           "category": "1",
           "conf": 0.786
          }
         ],
         "file": "325.jpg",
         "max_detection_conf": 0.786
        },
        {
         "detections": [
          {
           "bbox": [
            0.477,
            0.5916,
            0.3213,
            0.3768
           ],
           "category": "1",
           "conf": 0.937
          }
         ],
         "file": "326.jpg",
         "max_detection_conf": 0.937
        },
        {
         "detections": [
          {
           "bbox": [
            0.477,
            0.5916,
            0.3213,
            0.3768
           ],
           "category": "1",
           "conf": 0.937
          }
         ],
         "file": "327.jpg",
         "max_detection_conf": 0.937
        },
        {
         "detections": [
          {
           "bbox": [
            0.4921,
            0.4907,
            0.2072,
            0.4777
           ],
           "category": "1",
           "conf": 0.939
          }
         ],
         "file": "328.jpg",
         "max_detection_conf": 0.939
        },
        {
         "detections": [
          {
           "bbox": [
            0.4921,
            0.4907,
            0.2072,
            0.4777
           ],
           "category": "1",
           "conf": 0.939
          }
         ],
         "file": "329.jpg",
         "max_detection_conf": 0.939
        },
        {
         "detections": [
          {
           "bbox": [
            0.3661,
            0.5824,
            0.2755,
            0.387
           ],
           "category": "1",
           "conf": 0.863
          }
         ],
         "file": "330.jpg",
         "max_detection_conf": 0.863
        },
        {
         "detections": [
          {
           "bbox": [
            0.3661,
            0.5824,
            0.2755,
            0.387
           ],
           "category": "1",
           "conf": 0.863
          }
         ],
         "file": "331.jpg",
         "max_detection_conf": 0.863
        },
        {
         "detections": [
          {
           "bbox": [
            0,
            0.8898,
            0.04166,
            0.07962
           ],
           "category": "1",
           "conf": 0.00821
          },
          {
           "bbox": [
            0,
            0.9342,
            0.04114,
            0.03611
           ],
           "category": "1",
           "conf": 0.133
          },
          {
           "bbox": [
            0.6447,
            0.4074,
            0.03281,
            0.1527
           ],
           "category": "1",
           "conf": 0.216
          }
         ],
         "file": "332.jpg",
         "max_detection_conf": 0.216
        },
        {
         "detections": [
          {
           "bbox": [
            0,
            0.7592,
            0.1401,
            0.2083
           ],
           "category": "1",
           "conf": 0.921
          }
         ],
         "file": "205.jpg",
         "max_detection_conf": 0.921
        },
        {
         "detections": [
          {
           "bbox": [
            0.0151,
            0.5444,
            0.2265,
            0.424
           ],
           "category": "1",
           "conf": 0.916
          }
         ],
         "file": "206.jpg",
         "max_detection_conf": 0.916
        },
        {
         "detections": [
          {
           "bbox": [
            0.0151,
            0.5444,
            0.2265,
            0.424
           ],
           "category": "1",
           "conf": 0.916
          }
         ],
         "file": "207.jpg",
         "max_detection_conf": 0.916
        },
        {
         "detections": [
          {
           "bbox": [
            0.1369,
            0.5805,
            0.1458,
            0.3888
           ],
           "category": "1",
           "conf": 0.915
          }
         ],
         "file": "208.jpg",
         "max_detection_conf": 0.915
        },
        {
         "detections": [
          {
           "bbox": [
            0.1369,
            0.5805,
            0.1458,
            0.3888
           ],
           "category": "1",
           "conf": 0.915
          }
         ],
         "file": "209.jpg",
         "max_detection_conf": 0.915
        },
        {
         "detections": [
          {
           "bbox": [
            0.1088,
            0.6175,
            0.1635,
            0.3518
           ],
           "category": "1",
           "conf": 0.907
          }
         ],
         "file": "211.jpg",
         "max_detection_conf": 0.907
        },
        {
         "detections": [
          {
           "bbox": [
            0.1088,
            0.6175,
            0.1635,
            0.3518
           ],
           "category": "1",
           "conf": 0.907
          }
         ],
         "file": "210.jpg",
         "max_detection_conf": 0.907
        },
        {
         "detections": [
          {
           "bbox": [
            0.09531,
            0.5629,
            0.2395,
            0.4064
           ],
           "category": "1",
           "conf": 0.887
          }
         ],
         "file": "212.jpg",
         "max_detection_conf": 0.887
        },
        {
         "detections": [
          {
           "bbox": [
            0.09531,
            0.5629,
            0.2395,
            0.4064
           ],
           "category": "1",
           "conf": 0.887
          }
         ],
         "file": "213.jpg",
         "max_detection_conf": 0.887
        },
        {
         "detections": [
          {
           "bbox": [
            0.08229,
            0.6009,
            0.2125,
            0.3685
           ],
           "category": "1",
           "conf": 0.905
          }
         ],
         "file": "215.jpg",
         "max_detection_conf": 0.905
        },
        {
         "detections": [
          {
           "bbox": [
            0.2369,
            0.6138,
            0.1864,
            0.3555
           ],
           "category": "1",
           "conf": 0.909
          }
         ],
         "file": "216.jpg",
         "max_detection_conf": 0.909
        },
        {
         "detections": [
          {
           "bbox": [
            0.2369,
            0.6138,
            0.1864,
            0.3555
           ],
           "category": "1",
           "conf": 0.909
          }
         ],
         "file": "217.jpg",
         "max_detection_conf": 0.909
        },
        {
         "detections": [
          {
           "bbox": [
            0.08229,
            0.6009,
            0.2125,
            0.3685
           ],
           "category": "1",
           "conf": 0.905
          }
         ],
         "file": "214.jpg",
         "max_detection_conf": 0.905
        },
        {
         "detections": [
          {
           "bbox": [
            0.2078,
            0.6629,
            0.2197,
            0.3064
           ],
           "category": "1",
           "conf": 0.732
          }
         ],
         "file": "220.jpg",
         "max_detection_conf": 0.732
        },
        {
         "detections": [
          {
           "bbox": [
            0.1291,
            0.8074,
            0.1447,
            0.1629
           ],
           "category": "1",
           "conf": 0.0679
          },
          {
           "bbox": [
            0.09947,
            0.6824,
            0.1843,
            0.287
           ],
           "category": "1",
           "conf": 0.761
          }
         ],
         "file": "219.jpg",
         "max_detection_conf": 0.761
        },
        {
         "detections": [
          {
           "bbox": [
            0.1291,
            0.8074,
            0.1447,
            0.1629
           ],
           "category": "1",
           "conf": 0.0679
          },
          {
           "bbox": [
            0.09947,
            0.6824,
            0.1843,
            0.287
           ],
           "category": "1",
           "conf": 0.761
          }
         ],
         "file": "218.jpg",
         "max_detection_conf": 0.761
        },
        {
         "detections": [
          {
           "bbox": [
            0.2078,
            0.6629,
            0.2197,
            0.3064
           ],
           "category": "1",
           "conf": 0.732
          }
         ],
         "file": "221.jpg",
         "max_detection_conf": 0.732
        },
        {
         "detections": [
          {
           "bbox": [
            0.2296,
            0.5805,
            0.2145,
            0.3879
           ],
           "category": "1",
           "conf": 0.916
          }
         ],
         "file": "222.jpg",
         "max_detection_conf": 0.916
        },
        {
         "detections": [
          {
           "bbox": [
            0.2296,
            0.5805,
            0.2145,
            0.3879
           ],
           "category": "1",
           "conf": 0.916
          }
         ],
         "file": "223.jpg",
         "max_detection_conf": 0.916
        },
        {
         "detections": [
          {
           "bbox": [
            0.2447,
            0.6611,
            0.1942,
            0.3083
           ],
           "category": "1",
           "conf": 0.858
          }
         ],
         "file": "224.jpg",
         "max_detection_conf": 0.858
        },
        {
         "detections": [
          {
           "bbox": [
            0.2447,
            0.6611,
            0.1942,
            0.3083
           ],
           "category": "1",
           "conf": 0.858
          }
         ],
         "file": "225.jpg",
         "max_detection_conf": 0.858
        },
        {
         "detections": [
          {
           "bbox": [
            0.2197,
            0.6222,
            0.2484,
            0.3472
           ],
           "category": "1",
           "conf": 0.785
          }
         ],
         "file": "226.jpg",
         "max_detection_conf": 0.785
        },
        {
         "detections": [
          {
           "bbox": [
            0.289,
            0.6722,
            0.2369,
            0.2972
           ],
           "category": "1",
           "conf": 0.745
          }
         ],
         "file": "229.jpg",
         "max_detection_conf": 0.745
        },
        {
         "detections": [
          {
           "bbox": [
            0.2197,
            0.6222,
            0.2484,
            0.3472
           ],
           "category": "1",
           "conf": 0.785
          }
         ],
         "file": "227.jpg",
         "max_detection_conf": 0.785
        },
        {
         "detections": [
          {
           "bbox": [
            0.289,
            0.6722,
            0.2369,
            0.2972
           ],
           "category": "1",
           "conf": 0.745
          }
         ],
         "file": "228.jpg",
         "max_detection_conf": 0.745
        },
        {
         "detections": [
          {
           "bbox": [
            0.2807,
            0.7435,
            0.1187,
            0.224
           ],
           "category": "1",
           "conf": 0.00811
          },
          {
           "bbox": [
            0.2406,
            0.8231,
            0.1401,
            0.1462
           ],
           "category": "1",
           "conf": 0.0943
          },
          {
           "bbox": [
            0.2921,
            0.8805,
            0.08177,
            0.08888
           ],
           "category": "1",
           "conf": 0.261
          }
         ],
         "file": "230.jpg",
         "max_detection_conf": 0.261
        },
        {
         "detections": [
          {
           "bbox": [
            0.2807,
            0.7435,
            0.1187,
            0.224
           ],
           "category": "1",
           "conf": 0.00811
          },
          {
           "bbox": [
            0.2406,
            0.8231,
            0.1401,
            0.1462
           ],
           "category": "1",
           "conf": 0.0943
          },
          {
           "bbox": [
            0.2921,
            0.8805,
            0.08177,
            0.08888
           ],
           "category": "1",
           "conf": 0.261
          }
         ],
         "file": "231.jpg",
         "max_detection_conf": 0.261
        },
        {
         "detections": [
          {
           "bbox": [
            0.09791,
            0.5796,
            0.1932,
            0.3898
           ],
           "category": "1",
           "conf": 0.797
          }
         ],
         "file": "232.jpg",
         "max_detection_conf": 0.797
        },
        {
         "detections": [
          {
           "bbox": [
            0.09791,
            0.5796,
            0.1932,
            0.3898
           ],
           "category": "1",
           "conf": 0.797
          }
         ],
         "file": "233.jpg",
         "max_detection_conf": 0.797
        },
        {
         "detections": [
          {
           "bbox": [
            0.2281,
            0.5601,
            0.2302,
            0.4083
           ],
           "category": "1",
           "conf": 0.924
          }
         ],
         "file": "234.jpg",
         "max_detection_conf": 0.924
        },
        {
         "detections": [
          {
           "bbox": [
            0.2281,
            0.5601,
            0.2302,
            0.4083
           ],
           "category": "1",
           "conf": 0.924
          }
         ],
         "file": "235.jpg",
         "max_detection_conf": 0.924
        },
        {
         "detections": [
          {
           "bbox": [
            0.1895,
            0.7657,
            0.1859,
            0.2037
           ],
           "category": "1",
           "conf": 0.00763
          }
         ],
         "file": "236.jpg",
         "max_detection_conf": 0.00763
        },
        {
         "detections": [
          {
           "bbox": [
            0.1895,
            0.7657,
            0.1859,
            0.2037
           ],
           "category": "1",
           "conf": 0.00763
          }
         ],
         "file": "237.jpg",
         "max_detection_conf": 0.00763
        },
        {
         "detections": [
          {
           "bbox": [
            0.2718,
            0.7777,
            0.1333,
            0.1916
           ],
           "category": "1",
           "conf": 0.102
          },
          {
           "bbox": [
            0.1989,
            0.6787,
            0.2067,
            0.2907
           ],
           "category": "1",
           "conf": 0.635
          }
         ],
         "file": "238.jpg",
         "max_detection_conf": 0.635
        },
        {
         "detections": [
          {
           "bbox": [
            0.2718,
            0.7777,
            0.1333,
            0.1916
           ],
           "category": "1",
           "conf": 0.102
          },
          {
           "bbox": [
            0.1989,
            0.6787,
            0.2067,
            0.2907
           ],
           "category": "1",
           "conf": 0.635
          }
         ],
         "file": "239.jpg",
         "max_detection_conf": 0.635
        },
        {
         "detections": [
          {
           "bbox": [
            0.1869,
            0.6555,
            0.2015,
            0.3138
           ],
           "category": "1",
           "conf": 0.869
          }
         ],
         "file": "240.jpg",
         "max_detection_conf": 0.869
        },
        {
         "detections": [
          {
           "bbox": [
            0.1869,
            0.6555,
            0.2015,
            0.3138
           ],
           "category": "1",
           "conf": 0.869
          }
         ],
         "file": "241.jpg",
         "max_detection_conf": 0.869
        },
        {
         "detections": [
          {
           "bbox": [
            0.2213,
            0.6675,
            0.2249,
            0.3009
           ],
           "category": "1",
           "conf": 0.843
          }
         ],
         "file": "242.jpg",
         "max_detection_conf": 0.843
        },
        {
         "detections": [
          {
           "bbox": [
            0.2213,
            0.6675,
            0.2249,
            0.3009
           ],
           "category": "1",
           "conf": 0.843
          }
         ],
         "file": "243.jpg",
         "max_detection_conf": 0.843
        },
        {
         "detections": [
          {
           "bbox": [
            0.239,
            0.7648,
            0.1708,
            0.2055
           ],
           "category": "1",
           "conf": 0.0169
          },
          {
           "bbox": [
            0.2979,
            0.8981,
            0.113,
            0.07129
           ],
           "category": "1",
           "conf": 0.521
          }
         ],
         "file": "244.jpg",
         "max_detection_conf": 0.521
        },
        {
         "detections": [
          {
           "bbox": [
            0.239,
            0.7648,
            0.1708,
            0.2055
           ],
           "category": "1",
           "conf": 0.0169
          },
          {
           "bbox": [
            0.2979,
            0.8981,
            0.113,
            0.07129
           ],
           "category": "1",
           "conf": 0.521
          }
         ],
         "file": "245.jpg",
         "max_detection_conf": 0.521
        },
        {
         "detections": [
          {
           "bbox": [
            0.07604,
            0.5777,
            0.2182,
            0.3925
           ],
           "category": "1",
           "conf": 0.883
          }
         ],
         "file": "246.jpg",
         "max_detection_conf": 0.883
        },
        {
         "detections": [
          {
           "bbox": [
            0.07604,
            0.5777,
            0.2182,
            0.3925
           ],
           "category": "1",
           "conf": 0.883
          }
         ],
         "file": "247.jpg",
         "max_detection_conf": 0.883
        },
        {
         "detections": [
          {
           "bbox": [
            0.2281,
            0.724,
            0.2427,
            0.2462
           ],
           "category": "1",
           "conf": 0.777
          }
         ],
         "file": "248.jpg",
         "max_detection_conf": 0.777
        },
        {
         "detections": [
          {
           "bbox": [
            0.2281,
            0.724,
            0.2427,
            0.2462
           ],
           "category": "1",
           "conf": 0.777
          }
         ],
         "file": "249.jpg",
         "max_detection_conf": 0.777
        },
        {
         "detections": [
          {
           "bbox": [
            0.2322,
            0.9203,
            0.1765,
            0.04907
           ],
           "category": "1",
           "conf": 0.0111
          },
          {
           "bbox": [
            0.2369,
            0.8666,
            0.1796,
            0.1027
           ],
           "category": "1",
           "conf": 0.0163
          },
          {
           "bbox": [
            0.2213,
            0.7583,
            0.1927,
            0.2111
           ],
           "category": "1",
           "conf": 0.803
          }
         ],
         "file": "250.jpg",
         "max_detection_conf": 0.803
        },
        {
         "detections": [
          {
           "bbox": [
            0.2322,
            0.9203,
            0.1765,
            0.04907
           ],
           "category": "1",
           "conf": 0.0111
          },
          {
           "bbox": [
            0.2369,
            0.8666,
            0.1796,
            0.1027
           ],
           "category": "1",
           "conf": 0.0163
          },
          {
           "bbox": [
            0.2213,
            0.7583,
            0.1927,
            0.2111
           ],
           "category": "1",
           "conf": 0.803
          }
         ],
         "file": "251.jpg",
         "max_detection_conf": 0.803
        },
        {
         "detections": [
          {
           "bbox": [
            0.3796,
            0.9296,
            0.06614,
            0.03981
           ],
           "category": "1",
           "conf": 0.0194
          },
          {
           "bbox": [
            0.3828,
            0.912,
            0.1005,
            0.0574
           ],
           "category": "1",
           "conf": 0.169
          }
         ],
         "file": "252.jpg",
         "max_detection_conf": 0.169
        },
        {
         "detections": [
          {
           "bbox": [
            0.3796,
            0.9296,
            0.06614,
            0.03981
           ],
           "category": "1",
           "conf": 0.0194
          },
          {
           "bbox": [
            0.3828,
            0.912,
            0.1005,
            0.0574
           ],
           "category": "1",
           "conf": 0.169
          }
         ],
         "file": "253.jpg",
         "max_detection_conf": 0.169
        },
        {
         "detections": [
          {
           "bbox": [
            0.2156,
            0.6888,
            0.2197,
            0.2805
           ],
           "category": "1",
           "conf": 0.87
          }
         ],
         "file": "254.jpg",
         "max_detection_conf": 0.87
        },
        {
         "detections": [
          {
           "bbox": [
            0.2156,
            0.6888,
            0.2197,
            0.2805
           ],
           "category": "1",
           "conf": 0.87
          }
         ],
         "file": "255.jpg",
         "max_detection_conf": 0.87
        },
        {
         "detections": [
          {
           "bbox": [
            0.351,
            0.6138,
            0.263,
            0.3555
           ],
           "category": "1",
           "conf": 0.927
          }
         ],
         "file": "256.jpg",
         "max_detection_conf": 0.927
        },
        {
         "detections": [
          {
           "bbox": [
            0.351,
            0.6138,
            0.263,
            0.3555
           ],
           "category": "1",
           "conf": 0.927
          }
         ],
         "file": "257.jpg",
         "max_detection_conf": 0.927
        },
        {
         "detections": [
          {
           "bbox": [
            0.2541,
            0.8407,
            0.1802,
            0.1314
           ],
           "category": "1",
           "conf": 0.00841
          },
          {
           "bbox": [
            0.3052,
            0.7203,
            0.1296,
            0.2472
           ],
           "category": "1",
           "conf": 0.011
          },
          {
           "bbox": [
            0.3119,
            0.8842,
            0.1223,
            0.08518
           ],
           "category": "1",
           "conf": 0.21
          }
         ],
         "file": "258.jpg",
         "max_detection_conf": 0.21
        },
        {
         "detections": [
          {
           "bbox": [
            0.2541,
            0.8407,
            0.1802,
            0.1314
           ],
           "category": "1",
           "conf": 0.00841
          },
          {
           "bbox": [
            0.3052,
            0.7203,
            0.1296,
            0.2472
           ],
           "category": "1",
           "conf": 0.011
          },
          {
           "bbox": [
            0.3119,
            0.8842,
            0.1223,
            0.08518
           ],
           "category": "1",
           "conf": 0.21
          }
         ],
         "file": "259.jpg",
         "max_detection_conf": 0.21
        },
        {
         "detections": [
          {
           "bbox": [
            0.2729,
            0.5814,
            0.2343,
            0.3879
           ],
           "category": "1",
           "conf": 0.933
          }
         ],
         "file": "260.jpg",
         "max_detection_conf": 0.933
        },
        {
         "detections": [
          {
           "bbox": [
            0.2729,
            0.5814,
            0.2343,
            0.3879
           ],
           "category": "1",
           "conf": 0.933
          }
         ],
         "file": "261.jpg",
         "max_detection_conf": 0.933
        },
        {
         "detections": [
          {
           "bbox": [
            0.1276,
            0.7916,
            0.1671,
            0.1759
           ],
           "category": "1",
           "conf": 0.00641
          },
          {
           "bbox": [
            0.1864,
            0.8416,
            0.1062,
            0.1287
           ],
           "category": "1",
           "conf": 0.688
          }
         ],
         "file": "262.jpg",
         "max_detection_conf": 0.688
        },
        {
         "detections": [
          {
           "bbox": [
            0.1276,
            0.7916,
            0.1671,
            0.1759
           ],
           "category": "1",
           "conf": 0.00641
          },
          {
           "bbox": [
            0.1864,
            0.8416,
            0.1062,
            0.1287
           ],
           "category": "1",
           "conf": 0.688
          }
         ],
         "file": "263.jpg",
         "max_detection_conf": 0.688
        },
        {
         "detections": [
          {
           "bbox": [
            0.2479,
            0.6046,
            0.226,
            0.3648
           ],
           "category": "1",
           "conf": 0.914
          }
         ],
         "file": "264.jpg",
         "max_detection_conf": 0.914
        },
        {
         "detections": [
          {
           "bbox": [
            0.2479,
            0.6046,
            0.226,
            0.3648
           ],
           "category": "1",
           "conf": 0.914
          }
         ],
         "file": "265.jpg",
         "max_detection_conf": 0.914
        },
        {
         "detections": [
          {
           "bbox": [
            0.3312,
            0.5574,
            0.2432,
            0.4111
           ],
           "category": "1",
           "conf": 0.868
          }
         ],
         "file": "266.jpg",
         "max_detection_conf": 0.868
        },
        {
         "detections": [
          {
           "bbox": [
            0.3312,
            0.5574,
            0.2432,
            0.4111
           ],
           "category": "1",
           "conf": 0.868
          }
         ],
         "file": "267.jpg",
         "max_detection_conf": 0.868
        },
        {
         "detections": [
          {
           "bbox": [
            0.3453,
            0.8361,
            0.2265,
            0.1342
           ],
           "category": "1",
           "conf": 0.0162
          },
          {
           "bbox": [
            0.3317,
            0.6435,
            0.2421,
            0.3249
           ],
           "category": "1",
           "conf": 0.612
          }
         ],
         "file": "268.jpg",
         "max_detection_conf": 0.612
        },
        {
         "detections": [],
         "file": "141.jpg",
         "max_detection_conf": 0
        },
        {
         "detections": [
          {
           "bbox": [
            0.4593,
            0.0287,
            0.08489,
            0.187
           ],
           "category": "1",
           "conf": 0.0295
          }
         ],
         "file": "142.jpg",
         "max_detection_conf": 0.0295
        },
        {
         "detections": [],
         "file": "143.jpg",
         "max_detection_conf": 0
        },
        {
         "detections": [],
         "file": "144.jpg",
         "max_detection_conf": 0
        },
        {
         "detections": [],
         "file": "145.jpg",
         "max_detection_conf": 0
        },
        {
         "detections": [],
         "file": "146.jpg",
         "max_detection_conf": 0
        },
        {
         "detections": [],
         "file": "147.jpg",
         "max_detection_conf": 0
        },
        {
         "detections": [],
         "file": "148.jpg",
         "max_detection_conf": 0
        },
        {
         "detections": [],
         "file": "149.jpg",
         "max_detection_conf": 0
        },
        {
         "detections": [],
         "file": "150.jpg",
         "max_detection_conf": 0
        },
        {
         "detections": [],
         "file": "152.jpg",
         "max_detection_conf": 0
        },
        {
         "detections": [],
         "file": "153.jpg",
         "max_detection_conf": 0
        },
        {
         "detections": [
          {
           "bbox": [
            0.2328,
            0.4157,
            0.1807,
            0.3111
           ],
           "category": "1",
           "conf": 0.968
          }
         ],
         "file": "154.jpg",
         "max_detection_conf": 0.968
        },
        {
         "detections": [],
         "file": "151.jpg",
         "max_detection_conf": 0
        },
        {
         "detections": [
          {
           "bbox": [
            0.2562,
            0.4287,
            0.202,
            0.4277
           ],
           "category": "1",
           "conf": 0.978
          }
         ],
         "file": "156.jpg",
         "max_detection_conf": 0.978
        },
        {
         "detections": [
          {
           "bbox": [
            0.1885,
            0.4777,
            0.2234,
            0.2481
           ],
           "category": "1",
           "conf": 0.96
          }
         ],
         "file": "155.jpg",
         "max_detection_conf": 0.96
        },
        {
         "detections": [
          {
           "bbox": [
            0.3286,
            0.474,
            0.1557,
            0.4944
           ],
           "category": "1",
           "conf": 0.977
          }
         ],
         "file": "157.jpg",
         "max_detection_conf": 0.977
        },
        {
         "detections": [
          {
           "bbox": [
            0.09635,
            0.4305,
            0.2744,
            0.3175
           ],
           "category": "1",
           "conf": 0.965
          }
         ],
         "file": "158.jpg",
         "max_detection_conf": 0.965
        },
        {
         "detections": [
          {
           "bbox": [
            0.8588,
            0.5944,
            0.04635,
            0.02777
           ],
           "category": "1",
           "conf": 0.0143
          }
         ],
         "file": "159.jpg",
         "max_detection_conf": 0.0143
        },
        {
         "detections": [
          {
           "bbox": [
            0.1427,
            0.6527,
            0.08906,
            0.1388
           ],
           "category": "1",
           "conf": 0.00519
          },
          {
           "bbox": [
            0.007291,
            0.6527,
            0.2239,
            0.3157
           ],
           "category": "1",
           "conf": 0.915
          }
         ],
         "file": "160.jpg",
         "max_detection_conf": 0.915
        },
        {
         "detections": [
          {
           "bbox": [
            0.4218,
            0.5962,
            0.2026,
            0.3722
           ],
           "category": "1",
           "conf": 0.958
          }
         ],
         "file": "161.jpg",
         "max_detection_conf": 0.958
        },
        {
         "detections": [],
         "file": "162.jpg",
         "max_detection_conf": 0
        },
        {
         "detections": [],
         "file": "163.jpg",
         "max_detection_conf": 0
        },
        {
         "detections": [
          {
           "bbox": [
            0.04791,
            0.474,
            0.1927,
            0.3166
           ],
           "category": "1",
           "conf": 0.968
          }
         ],
         "file": "164.jpg",
         "max_detection_conf": 0.968
        },
        {
         "detections": [],
         "file": "165.jpg",
         "max_detection_conf": 0
        },
        {
         "detections": [
          {
           "bbox": [
            0.5239,
            0.6138,
            0.1963,
            0.3546
           ],
           "category": "1",
           "conf": 0.965
          }
         ],
         "file": "166.jpg",
         "max_detection_conf": 0.965
        },
        {
         "detections": [
          {
           "bbox": [
            0.4171,
            0.399,
            0.08541,
            0.1833
           ],
           "category": "1",
           "conf": 0.946
          }
         ],
         "file": "167.jpg",
         "max_detection_conf": 0.946
        },
        {
         "detections": [
          {
           "bbox": [
            0.8036,
            0.5509,
            0.1682,
            0.2472
           ],
           "category": "1",
           "conf": 0.967
          }
         ],
         "file": "168.jpg",
         "max_detection_conf": 0.967
        },
        {
         "detections": [],
         "file": "169.jpg",
         "max_detection_conf": 0
        },
        {
         "detections": [],
         "file": "170.jpg",
         "max_detection_conf": 0
        },
        {
         "detections": [
          {
           "bbox": [
            0.8223,
            0.5601,
            0.07135,
            0.1055
           ],
           "category": "1",
           "conf": 0.448
          },
          {
           "bbox": [
            0.838,
            0.6101,
            0.05572,
            0.05555
           ],
           "category": "1",
           "conf": 0.557
          }
         ],
         "file": "171.jpg",
         "max_detection_conf": 0.557
        },
        {
         "detections": [
          {
           "bbox": [
            0.6291,
            0.1629,
            0.1442,
            0.1009
           ],
           "category": "1",
           "conf": 0.0145
          },
          {
           "bbox": [
            0.6776,
            0.174,
            0.09322,
            0.06759
           ],
           "category": "1",
           "conf": 0.558
          }
         ],
         "file": "172.jpg",
         "max_detection_conf": 0.558
        },
        {
         "detections": [
          {
           "bbox": [
            0.5682,
            0.2037,
            0.1296,
            0.2027
           ],
           "category": "1",
           "conf": 0.89
          }
         ],
         "file": "173.jpg",
         "max_detection_conf": 0.89
        },
        {
         "detections": [
          {
           "bbox": [
            0.5531,
            0.2814,
            0.08541,
            0.1935
           ],
           "category": "1",
           "conf": 0.837
          }
         ],
         "file": "174.jpg",
         "max_detection_conf": 0.837
        },
        {
         "detections": [
          {
           "bbox": [
            0.8244,
            0.02777,
            0.1755,
            0.9351
           ],
           "category": "1",
           "conf": 0.0085
          },
          {
           "bbox": [
            0.05208,
            0.4537,
            0.09895,
            0.3064
           ],
           "category": "1",
           "conf": 0.949
          }
         ],
         "file": "175.jpg",
         "max_detection_conf": 0.949
        },
        {
         "detections": [
          {
           "bbox": [
            0.03437,
            0.437,
            0.1864,
            0.2768
           ],
           "category": "1",
           "conf": 0.95
          }
         ],
         "file": "176.jpg",
         "max_detection_conf": 0.95
        },
        {
         "detections": [
          {
           "bbox": [
            0.7177,
            0.2935,
            0.02864,
            0.2305
           ],
           "category": "1",
           "conf": 0.763
          }
         ],
         "file": "177.jpg",
         "max_detection_conf": 0.763
        },
        {
         "detections": [
          {
           "bbox": [
            0.8791,
            0.09907,
            0.05416,
            0.1046
           ],
           "category": "1",
           "conf": 0.0467
          },
          {
           "bbox": [
            0,
            0.5342,
            0.08958,
            0.1935
           ],
           "category": "1",
           "conf": 0.811
          }
         ],
         "file": "178.jpg",
         "max_detection_conf": 0.811
        },
        {
         "detections": [
          {
           "bbox": [
            0.8791,
            0.09722,
            0.05468,
            0.112
           ],
           "category": "1",
           "conf": 0.152
          }
         ],
         "file": "179.jpg",
         "max_detection_conf": 0.152
        },
        {
         "detections": [
          {
           "bbox": [
            0.5255,
            0.3703,
            0.04479,
            0.2055
           ],
           "category": "1",
           "conf": 0.824
          }
         ],
         "file": "180.jpg",
         "max_detection_conf": 0.824
        },
        {
         "detections": [
          {
           "bbox": [
            0.6005,
            0.1925,
            0.08958,
            0.1555
           ],
           "category": "1",
           "conf": 0.849
          }
         ],
         "file": "181.jpg",
         "max_detection_conf": 0.849
        },
        {
         "detections": [
          {
           "bbox": [
            0.552,
            0.2796,
            0.07708,
            0.2074
           ],
           "category": "1",
           "conf": 0.762
          }
         ],
         "file": "182.jpg",
         "max_detection_conf": 0.762
        },
        {
         "detections": [
          {
           "bbox": [
            0.4911,
            0.4277,
            0.07552,
            0.1212
           ],
           "category": "1",
           "conf": 0.0307
          },
          {
           "bbox": [
            0.4916,
            0.4759,
            0.05572,
            0.07314
           ],
           "category": "1",
           "conf": 0.583
          }
         ],
         "file": "183.jpg",
         "max_detection_conf": 0.583
        },
        {
         "detections": [],
         "file": "184.jpg",
         "max_detection_conf": 0
        },
        {
         "detections": [],
         "file": "185.jpg",
         "max_detection_conf": 0
        },
        {
         "detections": [
          {
           "bbox": [
            0.4989,
            0.4648,
            0.04114,
            0.1842
           ],
           "category": "1",
           "conf": 0.836
          }
         ],
         "file": "186.jpg",
         "max_detection_conf": 0.836
        },
        {
         "detections": [
          {
           "bbox": [
            0,
            0.02962,
            0.1781,
            0.5416
           ],
           "category": "1",
           "conf": 0.0152
          },
          {
           "bbox": [
            0.0005208,
            0.03055,
            0.9994,
            0.9342
           ],
           "category": "1",
           "conf": 0.184
          }
         ],
         "file": "187.jpg",
         "max_detection_conf": 0.184
        },
        {
         "detections": [
          {
           "bbox": [
            0,
            0.2583,
            0.02812,
            0.1231
           ],
           "category": "1",
           "conf": 0.00509
          },
          {
           "bbox": [
            0.04739,
            0.02962,
            0.952,
            0.9416
           ],
           "category": "1",
           "conf": 0.145
          }
         ],
         "file": "188.jpg",
         "max_detection_conf": 0.145
        },
        {
         "detections": [
          {
           "bbox": [
            0.08854,
            0.02962,
            0.9104,
            0.9388
           ],
           "category": "1",
           "conf": 0.153
          }
         ],
         "file": "189.jpg",
         "max_detection_conf": 0.153
        },
        {
         "detections": [],
         "file": "190.jpg",
         "max_detection_conf": 0
        },
        {
         "detections": [
          {
           "bbox": [
            0.1432,
            0.6111,
            0.04218,
            0.1259
           ],
           "category": "1",
           "conf": 0.0052
          }
         ],
         "file": "191.jpg",
         "max_detection_conf": 0.0052
        },
        {
         "detections": [
          {
           "bbox": [
            0.4036,
            0.5953,
            0.0552,
            0.09074
           ],
           "category": "1",
           "conf": 0.0359
          },
          {
           "bbox": [
            0.4041,
            0.6259,
            0.03489,
            0.06018
           ],
           "category": "1",
           "conf": 0.498
          }
         ],
         "file": "192.jpg",
         "max_detection_conf": 0.498
        },
        {
         "detections": [],
         "file": "193.jpg",
         "max_detection_conf": 0
        },
        {
         "detections": [],
         "file": "194.jpg",
         "max_detection_conf": 0
        },
        {
         "detections": [],
         "file": "195.jpg",
         "max_detection_conf": 0
        },
        {
         "detections": [],
         "file": "196.jpg",
         "max_detection_conf": 0
        },
        {
         "detections": [],
         "file": "197.jpg",
         "max_detection_conf": 0
        },
        {
         "detections": [
          {
           "bbox": [
            0.4666,
            0.4907,
            0.02447,
            0.1611
           ],
           "category": "1",
           "conf": 0.657
          }
         ],
         "file": "198.jpg",
         "max_detection_conf": 0.657
        },
        {
         "detections": [
          {
           "bbox": [
            0,
            0.924,
            0.0552,
            0.04537
           ],
           "category": "1",
           "conf": 0.0171
          },
          {
           "bbox": [
            0.6927,
            0.6175,
            0.1958,
            0.3037
           ],
           "category": "1",
           "conf": 0.934
          }
         ],
         "file": "199.jpg",
         "max_detection_conf": 0.934
        },
        {
         "detections": [
          {
           "bbox": [
            0.2036,
            0.3037,
            0.03072,
            0.1962
           ],
           "category": "1",
           "conf": 0.741
          }
         ],
         "file": "200.jpg",
         "max_detection_conf": 0.741
        },
        {
         "detections": [
          {
           "bbox": [
            0.5375,
            0.7574,
            0.03385,
            0.04722
           ],
           "category": "1",
           "conf": 0.0155
          }
         ],
         "file": "201.jpg",
         "max_detection_conf": 0.0155
        },
        {
         "detections": [
          {
           "bbox": [
            0,
            0.5324,
            0.1348,
            0.1657
           ],
           "category": "1",
           "conf": 0.83
          }
         ],
         "file": "202.jpg",
         "max_detection_conf": 0.83
        },
        {
         "detections": [
          {
           "bbox": [
            0.3812,
            0.7888,
            0.02343,
            0.03888
           ],
           "category": "1",
           "conf": 0.00697
          }
         ],
         "file": "203.jpg",
         "max_detection_conf": 0.00697
        },
        {
         "detections": [
          {
           "bbox": [
            0,
            0.7592,
            0.1401,
            0.2083
           ],
           "category": "1",
           "conf": 0.921
          }
         ],
         "file": "204.jpg",
         "max_detection_conf": 0.921
        },
        {
         "detections": [],
         "file": "077.jpg",
         "max_detection_conf": 0
        },
        {
         "detections": [],
         "file": "078.jpg",
         "max_detection_conf": 0
        },
        {
         "detections": [],
         "file": "079.jpg",
         "max_detection_conf": 0
        },
        {
         "detections": [],
         "file": "080.jpg",
         "max_detection_conf": 0
        },
        {
         "detections": [],
         "file": "081.jpg",
         "max_detection_conf": 0
        },
        {
         "detections": [],
         "file": "082.jpg",
         "max_detection_conf": 0
        },
        {
         "detections": [
          {
           "bbox": [
            0.5229,
            0.5953,
            0.0427,
            0.1064
           ],
           "category": "1",
           "conf": 0.141
          }
         ],
         "file": "083.jpg",
         "max_detection_conf": 0.141
        },
        {
         "detections": [
          {
           "bbox": [
            0.7286,
            0.4305,
            0.05156,
            0.09351
           ],
           "category": "1",
           "conf": 0.0053
          },
          {
           "bbox": [
            0.5223,
            0.5953,
            0.04322,
            0.1055
           ],
           "category": "1",
           "conf": 0.189
          }
         ],
         "file": "084.jpg",
         "max_detection_conf": 0.189
        },
        {
         "detections": [],
         "file": "085.jpg",
         "max_detection_conf": 0
        },
        {
         "detections": [],
         "file": "086.jpg",
         "max_detection_conf": 0
        },
        {
         "detections": [],
         "file": "087.jpg",
         "max_detection_conf": 0
        },
        {
         "detections": [],
         "file": "088.jpg",
         "max_detection_conf": 0
        },
        {
         "detections": [],
         "file": "089.jpg",
         "max_detection_conf": 0
        },
        {
         "detections": [],
         "file": "090.jpg",
         "max_detection_conf": 0
        },
        {
         "detections": [],
         "file": "091.jpg",
         "max_detection_conf": 0
        },
        {
         "detections": [],
         "file": "092.jpg",
         "max_detection_conf": 0
        },
        {
         "detections": [],
         "file": "093.jpg",
         "max_detection_conf": 0
        },
        {
         "detections": [],
         "file": "094.jpg",
         "max_detection_conf": 0
        },
        {
         "detections": [],
         "file": "095.jpg",
         "max_detection_conf": 0
        },
        {
         "detections": [],
         "file": "096.jpg",
         "max_detection_conf": 0
        },
        {
         "detections": [],
         "file": "097.jpg",
         "max_detection_conf": 0
        },
        {
         "detections": [],
         "file": "098.jpg",
         "max_detection_conf": 0
        },
        {
         "detections": [
          {
           "bbox": [
            0.7604,
            0.3185,
            0.1942,
            0.2888
           ],
           "category": "1",
           "conf": 0.616
          }
         ],
         "file": "099.jpg",
         "max_detection_conf": 0.616
        },
        {
         "detections": [],
         "file": "100.jpg",
         "max_detection_conf": 0
        },
        {
         "detections": [],
         "file": "101.jpg",
         "max_detection_conf": 0
        },
        {
         "detections": [],
         "file": "102.jpg",
         "max_detection_conf": 0
        },
        {
         "detections": [],
         "file": "103.jpg",
         "max_detection_conf": 0
        },
        {
         "detections": [],
         "file": "104.jpg",
         "max_detection_conf": 0
        },
        {
         "detections": [],
         "file": "105.jpg",
         "max_detection_conf": 0
        },
        {
         "detections": [],
         "file": "106.jpg",
         "max_detection_conf": 0
        },
        {
         "detections": [],
         "file": "107.jpg",
         "max_detection_conf": 0
        },
        {
         "detections": [],
         "file": "108.jpg",
         "max_detection_conf": 0
        },
        {
         "detections": [],
         "file": "109.jpg",
         "max_detection_conf": 0
        },
        {
         "detections": [],
         "file": "110.jpg",
         "max_detection_conf": 0
        },
        {
         "detections": [],
         "file": "111.jpg",
         "max_detection_conf": 0
        },
        {
         "detections": [],
         "file": "112.jpg",
         "max_detection_conf": 0
        },
        {
         "detections": [],
         "file": "113.jpg",
         "max_detection_conf": 0
        },
        {
         "detections": [],
         "file": "114.jpg",
         "max_detection_conf": 0
        },
        {
         "detections": [],
         "file": "115.jpg",
         "max_detection_conf": 0
        },
        {
         "detections": [],
         "file": "116.jpg",
         "max_detection_conf": 0
        },
        {
         "detections": [],
         "file": "117.jpg",
         "max_detection_conf": 0
        },
        {
         "detections": [],
         "file": "118.jpg",
         "max_detection_conf": 0
        },
        {
         "detections": [],
         "file": "119.jpg",
         "max_detection_conf": 0
        },
        {
         "detections": [],
         "file": "120.jpg",
         "max_detection_conf": 0
        },
        {
         "detections": [],
         "file": "121.jpg",
         "max_detection_conf": 0
        },
        {
         "detections": [],
         "file": "123.jpg",
         "max_detection_conf": 0
        },
        {
         "detections": [],
         "file": "122.jpg",
         "max_detection_conf": 0
        },
        {
         "detections": [],
         "file": "124.jpg",
         "max_detection_conf": 0
        },
        {
         "detections": [],
         "file": "125.jpg",
         "max_detection_conf": 0
        },
        {
         "detections": [],
         "file": "126.jpg",
         "max_detection_conf": 0
        },
        {
         "detections": [],
         "file": "127.jpg",
         "max_detection_conf": 0
        },
        {
         "detections": [],
         "file": "128.jpg",
         "max_detection_conf": 0
        },
        {
         "detections": [],
         "file": "129.jpg",
         "max_detection_conf": 0
        },
        {
         "detections": [],
         "file": "130.jpg",
         "max_detection_conf": 0
        },
        {
         "detections": [],
         "file": "131.jpg",
         "max_detection_conf": 0
        },
        {
         "detections": [],
         "file": "132.jpg",
         "max_detection_conf": 0
        },
        {
         "detections": [],
         "file": "133.jpg",
         "max_detection_conf": 0
        },
        {
         "detections": [],
         "file": "134.jpg",
         "max_detection_conf": 0
        },
        {
         "detections": [],
         "file": "135.jpg",
         "max_detection_conf": 0
        },
        {
         "detections": [],
         "file": "136.jpg",
         "max_detection_conf": 0
        },
        {
         "detections": [],
         "file": "137.jpg",
         "max_detection_conf": 0
        },
        {
         "detections": [],
         "file": "138.jpg",
         "max_detection_conf": 0
        },
        {
         "detections": [],
         "file": "139.jpg",
         "max_detection_conf": 0
        },
        {
         "detections": [],
         "file": "140.jpg",
         "max_detection_conf": 0
        },
        {
         "detections": [
          {
           "bbox": [
            0.2604,
            0.5592,
            0.1583,
            0.4092
           ],
           "category": "1",
           "conf": 0.969
          }
         ],
         "file": "013.jpg",
         "max_detection_conf": 0.969
        },
        {
         "detections": [
          {
           "bbox": [
            0.5458,
            0.8083,
            0.2541,
            0.1611
           ],
           "category": "1",
           "conf": 0.941
          }
         ],
         "file": "014.jpg",
         "max_detection_conf": 0.941
        },
        {
         "detections": [
          {
           "bbox": [
            0,
            0.4907,
            0.276,
            0.3712
           ],
           "category": "1",
           "conf": 0.967
          }
         ],
         "file": "015.jpg",
         "max_detection_conf": 0.967
        },
        {
         "detections": [
          {
           "bbox": [
            0.2057,
            0.4546,
            0.2223,
            0.3333
           ],
           "category": "1",
           "conf": 0.968
          }
         ],
         "file": "016.jpg",
         "max_detection_conf": 0.968
        },
        {
         "detections": [
          {
           "bbox": [
            0.3276,
            0.437,
            0.3213,
            0.3546
           ],
           "category": "1",
           "conf": 0.965
          }
         ],
         "file": "017.jpg",
         "max_detection_conf": 0.965
        },
        {
         "detections": [
          {
           "bbox": [
            0.5135,
            0.4527,
            0.2109,
            0.4675
           ],
           "category": "1",
           "conf": 0.979
          }
         ],
         "file": "018.jpg",
         "max_detection_conf": 0.979
        },
        {
         "detections": [
          {
           "bbox": [
            0.5156,
            0.5861,
            0.1916,
            0.3824
           ],
           "category": "1",
           "conf": 0.969
          }
         ],
         "file": "019.jpg",
         "max_detection_conf": 0.969
        },
        {
         "detections": [],
         "file": "020.jpg",
         "max_detection_conf": 0
        },
        {
         "detections": [
          {
           "bbox": [
            0.5177,
            0.6148,
            0.2463,
            0.3537
           ],
           "category": "1",
           "conf": 0.965
          }
         ],
         "file": "021.jpg",
         "max_detection_conf": 0.965
        },
        {
         "detections": [],
         "file": "022.jpg",
         "max_detection_conf": 0
        },
        {
         "detections": [],
         "file": "023.jpg",
         "max_detection_conf": 0
        },
        {
         "detections": [],
         "file": "024.jpg",
         "max_detection_conf": 0
        },
        {
         "detections": [],
         "file": "025.jpg",
         "max_detection_conf": 0
        },
        {
         "detections": [],
         "file": "026.jpg",
         "max_detection_conf": 0
        },
        {
         "detections": [],
         "file": "028.jpg",
         "max_detection_conf": 0
        },
        {
         "detections": [],
         "file": "029.jpg",
         "max_detection_conf": 0
        },
        {
         "detections": [],
         "file": "027.jpg",
         "max_detection_conf": 0
        },
        {
         "detections": [],
         "file": "031.jpg",
         "max_detection_conf": 0
        },
        {
         "detections": [],
         "file": "030.jpg",
         "max_detection_conf": 0
        },
        {
         "detections": [],
         "file": "032.jpg",
         "max_detection_conf": 0
        },
        {
         "detections": [],
         "file": "033.jpg",
         "max_detection_conf": 0
        },
        {
         "detections": [],
         "file": "034.jpg",
         "max_detection_conf": 0
        },
        {
         "detections": [],
         "file": "035.jpg",
         "max_detection_conf": 0
        },
        {
         "detections": [],
         "file": "036.jpg",
         "max_detection_conf": 0
        },
        {
         "detections": [],
         "file": "037.jpg",
         "max_detection_conf": 0
        },
        {
         "detections": [],
         "file": "038.jpg",
         "max_detection_conf": 0
        },
        {
         "detections": [],
         "file": "039.jpg",
         "max_detection_conf": 0
        },
        {
         "detections": [],
         "file": "040.jpg",
         "max_detection_conf": 0
        },
        {
         "detections": [],
         "file": "041.jpg",
         "max_detection_conf": 0
        },
        {
         "detections": [],
         "file": "042.jpg",
         "max_detection_conf": 0
        },
        {
         "detections": [],
         "file": "043.jpg",
         "max_detection_conf": 0
        },
        {
         "detections": [],
         "file": "044.jpg",
         "max_detection_conf": 0
        },
        {
         "detections": [],
         "file": "045.jpg",
         "max_detection_conf": 0
        },
        {
         "detections": [],
         "file": "046.jpg",
         "max_detection_conf": 0
        },
        {
         "detections": [],
         "file": "047.jpg",
         "max_detection_conf": 0
        },
        {
         "detections": [],
         "file": "048.jpg",
         "max_detection_conf": 0
        },
        {
         "detections": [],
         "file": "049.jpg",
         "max_detection_conf": 0
        },
        {
         "detections": [],
         "file": "050.jpg",
         "max_detection_conf": 0
        },
        {
         "detections": [],
         "file": "051.jpg",
         "max_detection_conf": 0
        },
        {
         "detections": [],
         "file": "053.jpg",
         "max_detection_conf": 0
        },
        {
         "detections": [],
         "file": "054.jpg",
         "max_detection_conf": 0
        },
        {
         "detections": [],
         "file": "052.jpg",
         "max_detection_conf": 0
        },
        {
         "detections": [],
         "file": "055.jpg",
         "max_detection_conf": 0
        },
        {
         "detections": [],
         "file": "056.jpg",
         "max_detection_conf": 0
        },
        {
         "detections": [
          {
           "bbox": [
            0.6755,
            0.6148,
            0.1973,
            0.3546
           ],
           "category": "1",
           "conf": 0.979
          }
         ],
         "file": "057.jpg",
         "max_detection_conf": 0.979
        },
        {
         "detections": [
          {
           "bbox": [
            0.6161,
            0.6046,
            0.2708,
            0.349
           ],
           "category": "1",
           "conf": 0.98
          }
         ],
         "file": "058.jpg",
         "max_detection_conf": 0.98
        },
        {
         "detections": [
          {
           "bbox": [
            0.2635,
            0.4462,
            0.1572,
            0.2268
           ],
           "category": "1",
           "conf": 0.963
          }
         ],
         "file": "059.jpg",
         "max_detection_conf": 0.963
        },
        {
         "detections": [
          {
           "bbox": [
            0.05052,
            0.4805,
            0.2635,
            0.3027
           ],
           "category": "1",
           "conf": 0.978
          }
         ],
         "file": "060.jpg",
         "max_detection_conf": 0.978
        },
        {
         "detections": [
          {
           "bbox": [
            0,
            0.612,
            0.1182,
            0.2833
           ],
           "category": "1",
           "conf": 0.961
          }
         ],
         "file": "061.jpg",
         "max_detection_conf": 0.961
        },
        {
         "detections": [
          {
           "bbox": [
            0.004687,
            0.7203,
            0.3187,
            0.249
           ],
           "category": "1",
           "conf": 0.978
          }
         ],
         "file": "062.jpg",
         "max_detection_conf": 0.978
        },
        {
         "detections": [
          {
           "bbox": [
            0.08229,
            0.7083,
            0.3348,
            0.2611
           ],
           "category": "1",
           "conf": 0.977
          }
         ],
         "file": "063.jpg",
         "max_detection_conf": 0.977
        },
        {
         "detections": [],
         "file": "064.jpg",
         "max_detection_conf": 0
        },
        {
         "detections": [],
         "file": "065.jpg",
         "max_detection_conf": 0
        },
        {
         "detections": [],
         "file": "066.jpg",
         "max_detection_conf": 0
        },
        {
         "detections": [
          {
           "bbox": [
            0.5229,
            0.5962,
            0.04218,
            0.1046
           ],
           "category": "1",
           "conf": 0.00515
          },
          {
           "bbox": [
            0.9005,
            0.6453,
            0.04739,
            0.06851
           ],
           "category": "1",
           "conf": 0.00796
          }
         ],
         "file": "067.jpg",
         "max_detection_conf": 0.00796
        },
        {
         "detections": [],
         "file": "068.jpg",
         "max_detection_conf": 0
        },
        {
         "detections": [],
         "file": "069.jpg",
         "max_detection_conf": 0
        },
        {
         "detections": [],
         "file": "070.jpg",
         "max_detection_conf": 0
        },
        {
         "detections": [],
         "file": "072.jpg",
         "max_detection_conf": 0
        },
        {
         "detections": [],
         "file": "073.jpg",
         "max_detection_conf": 0
        },
        {
         "detections": [],
         "file": "071.jpg",
         "max_detection_conf": 0
        },
        {
         "detections": [],
         "file": "074.jpg",
         "max_detection_conf": 0
        },
        {
         "detections": [],
         "file": "075.jpg",
         "max_detection_conf": 0
        },
        {
         "detections": [],
         "file": "076.jpg",
         "max_detection_conf": 0
        },
        {
         "detections": [],
         "file": "001.jpg",
         "max_detection_conf": 0
        },
        {
         "detections": [],
         "file": "000.jpg",
         "max_detection_conf": 0
        },
        {
         "detections": [],
         "file": "002.jpg",
         "max_detection_conf": 0
        },
        {
         "detections": [],
         "file": "003.jpg",
         "max_detection_conf": 0
        },
        {
         "detections": [
          {
           "bbox": [
            0.5307,
            0.4731,
            0.2552,
            0.2972
           ],
           "category": "1",
           "conf": 0.975
          }
         ],
         "file": "006.jpg",
         "max_detection_conf": 0.975
        },
        {
         "detections": [],
         "file": "004.jpg",
         "max_detection_conf": 0
        },
        {
         "detections": [
          {
           "bbox": [
            0.6874,
            0.5768,
            0.277,
            0.3879
           ],
           "category": "1",
           "conf": 0.957
          }
         ],
         "file": "007.jpg",
         "max_detection_conf": 0.957
        },
        {
         "detections": [],
         "file": "005.jpg",
         "max_detection_conf": 0
        },
        {
         "detections": [
          {
           "bbox": [
            0,
            0.5685,
            0.1989,
            0.4009
           ],
           "category": "1",
           "conf": 0.92
          }
         ],
         "file": "008.jpg",
         "max_detection_conf": 0.92
        },
        {
         "detections": [
          {
           "bbox": [
            0.2281,
            0.4805,
            0.1572,
            0.2537
           ],
           "category": "1",
           "conf": 0.966
          }
         ],
         "file": "009.jpg",
         "max_detection_conf": 0.966
        },
        {
         "detections": [
          {
           "bbox": [
            0.239,
            0.437,
            0.176,
            0.2694
           ],
           "category": "1",
           "conf": 0.952
          }
         ],
         "file": "010.jpg",
         "max_detection_conf": 0.952
        },
        {
         "detections": [
          {
           "bbox": [
            0.2604,
            0.4703,
            0.138,
            0.2537
           ],
           "category": "1",
           "conf": 0.958
          }
         ],
         "file": "011.jpg",
         "max_detection_conf": 0.958
        },
        {
         "detections": [
          {
           "bbox": [
            0.2567,
            0.4685,
            0.1364,
            0.2583
           ],
           "category": "1",
           "conf": 0.954
          }
         ],
         "file": "012.jpg",
         "max_detection_conf": 0.954
        },
        {
         "detections": [
          {
           "bbox": [
            0.7281,
            0.4268,
            0.04374,
            0.08888
           ],
           "category": "1",
           "conf": 0.00989
          },
          {
           "bbox": [
            0.5156,
            0.4537,
            0.2072,
            0.4657
           ],
           "category": "1",
           "conf": 0.975
          }
         ],
         "file": "018_detections.jpg",
         "max_detection_conf": 0.975
        },
        {
         "detections": [
          {
           "bbox": [
            0.5161,
            0.5851,
            0.189,
            0.3805
           ],
           "category": "1",
           "conf": 0.973
          }
         ],
         "file": "019_detections.jpg",
         "max_detection_conf": 0.973
        }
       ],
       "info": {
        "detection_completion_time": "2023-01-10 00:01:38",
        "detector": "md_v5a.0.0.pt",
        "detector_metadata": {
         "conservative_detection_threshold": 0.05,
         "megadetector_version": "v5a.0.0",
         "typical_detection_threshold": 0.2
        },
        "format_version": "1.2"
       }
      },
      "text/plain": [
       "<IPython.core.display.JSON object>"
      ]
     },
     "execution_count": 20,
     "metadata": {
      "application/json": {
       "expanded": false,
       "root": "root"
      }
     },
     "output_type": "execute_result"
    }
   ],
   "source": [
    "from IPython.display import JSON\n",
    "JSON('./git/cameratraps/test_output/test_output_001.json', expanded=False)\n"
   ]
  },
  {
   "cell_type": "code",
   "execution_count": null,
   "id": "c2c06550-1086-4baf-9e96-4270b0c60d6c",
   "metadata": {},
   "outputs": [],
   "source": []
  }
 ],
 "metadata": {
  "kernelspec": {
   "display_name": "Python 3 (ipykernel)",
   "language": "python",
   "name": "python3"
  },
  "language_info": {
   "codemirror_mode": {
    "name": "ipython",
    "version": 3
   },
   "file_extension": ".py",
   "mimetype": "text/x-python",
   "name": "python",
   "nbconvert_exporter": "python",
   "pygments_lexer": "ipython3",
   "version": "3.9.13"
  }
 },
 "nbformat": 4,
 "nbformat_minor": 5
}
