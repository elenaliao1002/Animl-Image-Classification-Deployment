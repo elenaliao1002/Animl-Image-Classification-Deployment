{
 "cells": [
  {
   "cell_type": "markdown",
   "id": "5a95f6ec-9754-418a-81a4-342fb6b5cc70",
   "metadata": {},
   "source": [
    "### 1. Clone the repo and set up the virtual env"
   ]
  },
  {
   "cell_type": "code",
   "execution_count": null,
   "id": "530b1615-2eec-4071-b772-30a8996d6025",
   "metadata": {},
   "outputs": [],
   "source": [
    "% mkdir animl-ml\n",
    "% git clone https://github.com/tnc-ca-geo/animl-ml.git\n",
    "% conda create --name animl\n",
    "% conda active animl \n",
    "% cd animl-ml\n",
    "% conda install --name animl --file requirements.txt"
   ]
  },
  {
   "cell_type": "markdown",
   "id": "bfd0b8b2-73e7-4f15-8ff7-e6b9bfc2cb68",
   "metadata": {},
   "source": [
    "### 2. Get the CameraTrap and Sagemaker contianer repos"
   ]
  },
  {
   "cell_type": "markdown",
   "id": "379cefb9-9208-447d-b1f1-9a6492b09f26",
   "metadata": {},
   "source": [
    "After cloning this repo, from the animl-ml/animl-ml/ project directory, run the script to clone the necessary external repos:"
   ]
  },
  {
   "cell_type": "code",
   "execution_count": null,
   "id": "c22752bd-583e-4f26-b472-766c7133b65d",
   "metadata": {},
   "outputs": [],
   "source": [
    "% bash ./scripts/get-libs.sh"
   ]
  },
  {
   "cell_type": "markdown",
   "id": "83abef8c-0d4a-4a5a-a944-1f0fc6b7af1e",
   "metadata": {},
   "source": [
    "### Before get the models"
   ]
  },
  {
   "cell_type": "markdown",
   "id": "d3d75f5f-a265-4d1e-8d41-8e90f4ecd946",
   "metadata": {},
   "source": [
    "We need to download the brew and then install awsvault first.(https://github.com/99designs/aws-vault)"
   ]
  },
  {
   "cell_type": "code",
   "execution_count": null,
   "id": "96724d9c-4c23-44ed-9bd4-7bf4345b921b",
   "metadata": {},
   "outputs": [],
   "source": [
    "!bash ./scripts/get-libs.sh\n",
    "# % /bin/bash -c \"$(curl -fsSL https://raw.githubusercontent.com/Homebrew/install/HEAD/install.sh)\"\n",
    "# user wliao14 may not run sudo on ht-gu. \n",
    "!mkdir homebrew && curl -L https://github.com/Homebrew/brew/tarball/master | tar xz --strip 1 -C homebrew\n",
    "!eval \"$(homebrew/bin/brew shellenv)\"\n",
    "!brew update --force --quiet\n",
    "!brew install aws-vault"
   ]
  },
  {
   "cell_type": "markdown",
   "id": "e221b7c6-1fcb-488d-a183-9908ab5b5a03",
   "metadata": {},
   "source": [
    "### 3. Get the models"
   ]
  },
  {
   "cell_type": "markdown",
   "id": "124410f2-fa75-4e69-8fc3-1641a12fd89f",
   "metadata": {},
   "source": [
    "The models we use in this app are all available in Tensorflow ProtoBuf format at s3://animl-model-zoo. To download and unzip them, run the following from the same animl-ml project directory:"
   ]
  },
  {
   "cell_type": "code",
   "execution_count": null,
   "id": "f1f4c0a0-b3cb-4528-b515-763ab7e9adad",
   "metadata": {},
   "outputs": [],
   "source": [
    "!aws-vault exec <vault_profile> -- bash ./scripts/get-models.sh\n",
    "# I think We don't have the account of AWS. so I am thinking we might not access this step... "
   ]
  },
  {
   "cell_type": "code",
   "execution_count": null,
   "id": "7c4372e8-8285-4e59-b2fd-217cc315c16d",
   "metadata": {},
   "outputs": [],
   "source": []
  }
 ],
 "metadata": {
  "kernelspec": {
   "display_name": "Python 3 (ipykernel)",
   "language": "python",
   "name": "python3"
  },
  "language_info": {
   "codemirror_mode": {
    "name": "ipython",
    "version": 3
   },
   "file_extension": ".py",
   "mimetype": "text/x-python",
   "name": "python",
   "nbconvert_exporter": "python",
   "pygments_lexer": "ipython3",
   "version": "3.9.13"
  }
 },
 "nbformat": 4,
 "nbformat_minor": 5
}
